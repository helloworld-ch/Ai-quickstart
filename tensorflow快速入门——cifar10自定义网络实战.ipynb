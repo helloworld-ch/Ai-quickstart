{
 "cells": [
  {
   "cell_type": "code",
   "execution_count": 1,
   "id": "cc2989f4",
   "metadata": {},
   "outputs": [],
   "source": [
    "import tensorflow as tf"
   ]
  },
  {
   "cell_type": "code",
   "execution_count": 2,
   "id": "158db213",
   "metadata": {},
   "outputs": [],
   "source": [
    "# 数据集处理"
   ]
  },
  {
   "cell_type": "code",
   "execution_count": 3,
   "id": "314a64fe",
   "metadata": {},
   "outputs": [],
   "source": [
    "def preprocess(x,y):\n",
    "    x = tf.cast(x,tf.float32)/255.\n",
    "    y = tf.cast(y,dtype=tf.int32)\n",
    "    return x,y"
   ]
  },
  {
   "cell_type": "code",
   "execution_count": 4,
   "id": "c006b7bc",
   "metadata": {},
   "outputs": [],
   "source": [
    "# 加载数据集"
   ]
  },
  {
   "cell_type": "code",
   "execution_count": 5,
   "id": "3f8890bf",
   "metadata": {},
   "outputs": [],
   "source": [
    "(x,y),(x_test,y_test) = tf.keras.datasets.cifar10.load_data()"
   ]
  },
  {
   "cell_type": "code",
   "execution_count": 6,
   "id": "c74ecc39",
   "metadata": {},
   "outputs": [],
   "source": [
    "y = tf.squeeze(y)\n",
    "y_test = tf.squeeze(y_test)\n",
    "y = tf.one_hot(y,depth=10)\n",
    "y_test = tf.one_hot(y_test,depth=10)"
   ]
  },
  {
   "cell_type": "code",
   "execution_count": 7,
   "id": "c45f5056",
   "metadata": {},
   "outputs": [],
   "source": [
    "# 数据集库搭建"
   ]
  },
  {
   "cell_type": "code",
   "execution_count": 8,
   "id": "9957d15e",
   "metadata": {},
   "outputs": [],
   "source": [
    "banchsize = 128\n",
    "train_db = tf.data.Dataset.from_tensor_slices((x,y))\n",
    "train_db = train_db.map(preprocess).shuffle(10000).batch(banchsize)\n",
    "test_db = tf.data.Dataset.from_tensor_slices((x_test,y_test))\n",
    "test_db = test_db.map(preprocess).batch(banchsize)"
   ]
  },
  {
   "cell_type": "code",
   "execution_count": 9,
   "id": "5ac44942",
   "metadata": {},
   "outputs": [],
   "source": [
    "# 抽样检测"
   ]
  },
  {
   "cell_type": "code",
   "execution_count": 10,
   "id": "ede37097",
   "metadata": {},
   "outputs": [
    {
     "name": "stdout",
     "output_type": "stream",
     "text": [
      "(128, 32, 32, 3) (128, 10)\n"
     ]
    }
   ],
   "source": [
    "sample = next(iter(train_db))\n",
    "print(sample[0].shape,sample[1].shape)"
   ]
  },
  {
   "cell_type": "code",
   "execution_count": 11,
   "id": "f5611e6f",
   "metadata": {},
   "outputs": [],
   "source": [
    "# 设置自定义层"
   ]
  },
  {
   "cell_type": "code",
   "execution_count": 12,
   "id": "cd554988",
   "metadata": {},
   "outputs": [],
   "source": [
    "class MyDense(tf.keras.layers.Layer):\n",
    "    def __init__(self,intp_dim,outp_dim):\n",
    "        super(MyDense,self).__init__()\n",
    "        self.kernel = self.add_weight('w',[intp_dim,outp_dim])\n",
    "    \n",
    "    def call(self,inputs,training = None):\n",
    "        x = inputs@self.kernel\n",
    "        return x"
   ]
  },
  {
   "cell_type": "code",
   "execution_count": 16,
   "id": "d4e8c9d3",
   "metadata": {},
   "outputs": [],
   "source": [
    "class MyNetWork(tf.keras.models.Model):\n",
    "    def __init__(self):\n",
    "        super(MyNetWork,self).__init__()\n",
    "        self.fc1 = MyDense(32*32*3,256)\n",
    "        self.fc2 = MyDense(256,128)\n",
    "        self.fc3 = MyDense(128,64)\n",
    "        self.fc4 = MyDense(64,32)\n",
    "        self.fc5 = MyDense(32,10)\n",
    "    def call(self,inputs):\n",
    "        x = tf.reshape(inputs,[-1,32*32*3])\n",
    "        \n",
    "        x = self.fc1(x)\n",
    "        x = tf.nn.relu(x)\n",
    "        \n",
    "        x = self.fc2(x)\n",
    "        x = tf.nn.relu(x)\n",
    "        \n",
    "        x = self.fc3(x)\n",
    "        x = tf.nn.relu(x)\n",
    "        \n",
    "        x = self.fc4(x)\n",
    "        x = tf.nn.relu(x)\n",
    "        \n",
    "        x = self.fc5(x)\n",
    "        \n",
    "        return x\n",
    "        \n",
    "        "
   ]
  },
  {
   "cell_type": "code",
   "execution_count": 17,
   "id": "693514ce",
   "metadata": {},
   "outputs": [],
   "source": [
    "netWork = MyNetWork()"
   ]
  },
  {
   "cell_type": "code",
   "execution_count": 18,
   "id": "6fc1021f",
   "metadata": {},
   "outputs": [],
   "source": [
    "netWork.build(input_shape=[None,32,32,3])"
   ]
  },
  {
   "cell_type": "code",
   "execution_count": 19,
   "id": "682b1bcb",
   "metadata": {},
   "outputs": [
    {
     "name": "stdout",
     "output_type": "stream",
     "text": [
      "Model: \"my_net_work_1\"\n",
      "_________________________________________________________________\n",
      " Layer (type)                Output Shape              Param #   \n",
      "=================================================================\n",
      " my_dense_5 (MyDense)        multiple                  786432    \n",
      "                                                                 \n",
      " my_dense_6 (MyDense)        multiple                  32768     \n",
      "                                                                 \n",
      " my_dense_7 (MyDense)        multiple                  8192      \n",
      "                                                                 \n",
      " my_dense_8 (MyDense)        multiple                  2048      \n",
      "                                                                 \n",
      " my_dense_9 (MyDense)        multiple                  320       \n",
      "                                                                 \n",
      "=================================================================\n",
      "Total params: 829,760\n",
      "Trainable params: 829,760\n",
      "Non-trainable params: 0\n",
      "_________________________________________________________________\n"
     ]
    }
   ],
   "source": [
    "netWork.summary()"
   ]
  },
  {
   "cell_type": "code",
   "execution_count": 20,
   "id": "5f5b1963",
   "metadata": {},
   "outputs": [],
   "source": [
    "netWork.compile(optimizer=tf.keras.optimizers.Adam(1e-3),\n",
    "               loss= tf.losses.CategoricalCrossentropy(from_logits=True),\n",
    "               metrics=['accuracy'])"
   ]
  },
  {
   "cell_type": "code",
   "execution_count": 21,
   "id": "4837c21e",
   "metadata": {},
   "outputs": [
    {
     "name": "stdout",
     "output_type": "stream",
     "text": [
      "Epoch 1/5\n",
      "391/391 [==============================] - 7s 14ms/step - loss: 1.9513 - accuracy: 0.2829 - val_loss: 1.7783 - val_accuracy: 0.3629\n",
      "Epoch 2/5\n",
      "391/391 [==============================] - 5s 14ms/step - loss: 1.7408 - accuracy: 0.3741 - val_loss: 1.6966 - val_accuracy: 0.3911\n",
      "Epoch 3/5\n",
      "391/391 [==============================] - 6s 14ms/step - loss: 1.6498 - accuracy: 0.4070 - val_loss: 1.5947 - val_accuracy: 0.4315\n",
      "Epoch 4/5\n",
      "391/391 [==============================] - 6s 15ms/step - loss: 1.5900 - accuracy: 0.4336 - val_loss: 1.5598 - val_accuracy: 0.4427\n",
      "Epoch 5/5\n",
      "391/391 [==============================] - 6s 15ms/step - loss: 1.5353 - accuracy: 0.4514 - val_loss: 1.5431 - val_accuracy: 0.4531\n"
     ]
    },
    {
     "data": {
      "text/plain": [
       "<keras.callbacks.History at 0x158c32d0f40>"
      ]
     },
     "execution_count": 21,
     "metadata": {},
     "output_type": "execute_result"
    }
   ],
   "source": [
    "netWork.fit(train_db,epochs=5,validation_data=test_db,validation_freq=1)"
   ]
  },
  {
   "cell_type": "code",
   "execution_count": 22,
   "id": "f56e804e",
   "metadata": {},
   "outputs": [],
   "source": [
    "# 保存模型"
   ]
  },
  {
   "cell_type": "code",
   "execution_count": 23,
   "id": "6898e786",
   "metadata": {},
   "outputs": [
    {
     "name": "stdout",
     "output_type": "stream",
     "text": [
      "79/79 [==============================] - 0s 6ms/step - loss: 1.5431 - accuracy: 0.4531\n"
     ]
    },
    {
     "data": {
      "text/plain": [
       "[1.5431029796600342, 0.4530999958515167]"
      ]
     },
     "execution_count": 23,
     "metadata": {},
     "output_type": "execute_result"
    }
   ],
   "source": [
    "netWork.evaluate(test_db)"
   ]
  },
  {
   "cell_type": "code",
   "execution_count": 24,
   "id": "0d46c781",
   "metadata": {},
   "outputs": [],
   "source": [
    "netWork.save_weights('ckpt/weights/weight_demo01.ckpt')"
   ]
  },
  {
   "cell_type": "code",
   "execution_count": 30,
   "id": "72830695",
   "metadata": {},
   "outputs": [],
   "source": [
    "del netWork"
   ]
  },
  {
   "cell_type": "code",
   "execution_count": 32,
   "id": "9ab94b18",
   "metadata": {},
   "outputs": [],
   "source": [
    "netWork = MyNetWork()\n",
    "netWork.compile(optimizer=tf.keras.optimizers.Adam(1e-3),\n",
    "               loss= tf.losses.CategoricalCrossentropy(from_logits=True),\n",
    "               metrics=['accuracy'])"
   ]
  },
  {
   "cell_type": "code",
   "execution_count": 34,
   "id": "d7eee8b8",
   "metadata": {},
   "outputs": [
    {
     "data": {
      "text/plain": [
       "<tensorflow.python.training.tracking.util.CheckpointLoadStatus at 0x158c89088b0>"
      ]
     },
     "execution_count": 34,
     "metadata": {},
     "output_type": "execute_result"
    }
   ],
   "source": [
    "netWork.load_weights('ckpt/weights/weight_demo01.ckpt')"
   ]
  },
  {
   "cell_type": "code",
   "execution_count": 35,
   "id": "a5c3ade7",
   "metadata": {},
   "outputs": [
    {
     "name": "stdout",
     "output_type": "stream",
     "text": [
      "79/79 [==============================] - 0s 5ms/step - loss: 1.5431 - accuracy: 0.4531\n"
     ]
    },
    {
     "data": {
      "text/plain": [
       "[1.5431029796600342, 0.4530999958515167]"
      ]
     },
     "execution_count": 35,
     "metadata": {},
     "output_type": "execute_result"
    }
   ],
   "source": [
    "netWork.evaluate(test_db)"
   ]
  },
  {
   "cell_type": "code",
   "execution_count": null,
   "id": "bad214b4",
   "metadata": {},
   "outputs": [],
   "source": []
  }
 ],
 "metadata": {
  "kernelspec": {
   "display_name": "Python 3 (ipykernel)",
   "language": "python",
   "name": "python3"
  },
  "language_info": {
   "codemirror_mode": {
    "name": "ipython",
    "version": 3
   },
   "file_extension": ".py",
   "mimetype": "text/x-python",
   "name": "python",
   "nbconvert_exporter": "python",
   "pygments_lexer": "ipython3",
   "version": "3.9.12"
  }
 },
 "nbformat": 4,
 "nbformat_minor": 5
}
