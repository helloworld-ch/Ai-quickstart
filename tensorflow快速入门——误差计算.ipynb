{
 "cells": [
  {
   "cell_type": "code",
   "execution_count": 2,
   "id": "dbafce4d",
   "metadata": {},
   "outputs": [],
   "source": [
    "import tensorflow as tf"
   ]
  },
  {
   "cell_type": "code",
   "execution_count": 4,
   "id": "7d061f6c",
   "metadata": {},
   "outputs": [],
   "source": [
    "p_test = tf.constant([0,1,0,0])"
   ]
  },
  {
   "cell_type": "code",
   "execution_count": 5,
   "id": "0701310e",
   "metadata": {},
   "outputs": [],
   "source": [
    "pred = tf.constant([0.25,0.25,0.25,0.25])"
   ]
  },
  {
   "cell_type": "code",
   "execution_count": 6,
   "id": "fbfb4fe5",
   "metadata": {},
   "outputs": [
    {
     "data": {
      "text/plain": [
       "<tf.Tensor: shape=(), dtype=float32, numpy=1.3862944>"
      ]
     },
     "execution_count": 6,
     "metadata": {},
     "output_type": "execute_result"
    }
   ],
   "source": [
    "tf.losses.categorical_crossentropy(p_test,pred) # 交叉熵损失函数，前者传入真实分布，后者传入预测分布"
   ]
  },
  {
   "cell_type": "code",
   "execution_count": 7,
   "id": "7d946b1b",
   "metadata": {},
   "outputs": [],
   "source": [
    "pred = tf.constant([0.01,0.97,0.01,0.01])"
   ]
  },
  {
   "cell_type": "code",
   "execution_count": 9,
   "id": "ac30fdd0",
   "metadata": {},
   "outputs": [
    {
     "data": {
      "text/plain": [
       "<tf.Tensor: shape=(), dtype=float32, numpy=0.030459179>"
      ]
     },
     "execution_count": 9,
     "metadata": {},
     "output_type": "execute_result"
    }
   ],
   "source": [
    "tf.losses.categorical_crossentropy(p_test,pred) # 最小化交叉熵函数值就是一个收敛压力"
   ]
  },
  {
   "cell_type": "code",
   "execution_count": null,
   "id": "c053335b",
   "metadata": {},
   "outputs": [],
   "source": []
  }
 ],
 "metadata": {
  "kernelspec": {
   "display_name": "Python 3 (ipykernel)",
   "language": "python",
   "name": "python3"
  },
  "language_info": {
   "codemirror_mode": {
    "name": "ipython",
    "version": 3
   },
   "file_extension": ".py",
   "mimetype": "text/x-python",
   "name": "python",
   "nbconvert_exporter": "python",
   "pygments_lexer": "ipython3",
   "version": "3.9.12"
  }
 },
 "nbformat": 4,
 "nbformat_minor": 5
}
