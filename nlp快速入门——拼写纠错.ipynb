{
 "cells": [
  {
   "cell_type": "code",
   "execution_count": 1,
   "id": "162b3b8a",
   "metadata": {},
   "outputs": [],
   "source": [
    "import numpy as np"
   ]
  },
  {
   "cell_type": "code",
   "execution_count": 2,
   "id": "22baf02a",
   "metadata": {},
   "outputs": [],
   "source": [
    "# 通过生成数据在选择来纠错"
   ]
  },
  {
   "cell_type": "code",
   "execution_count": 3,
   "id": "d220ef47",
   "metadata": {},
   "outputs": [],
   "source": [
    "words = ['a','b','c','d','e','f','g','h','i','j','k','l','m','n','o','p','q','r','s','t','u','v','w','x','y','z']"
   ]
  },
  {
   "cell_type": "code",
   "execution_count": 4,
   "id": "9bbf1e4f",
   "metadata": {},
   "outputs": [],
   "source": [
    "inputs = \"appl\""
   ]
  },
  {
   "cell_type": "code",
   "execution_count": 5,
   "id": "8ac8ee05",
   "metadata": {},
   "outputs": [],
   "source": [
    "# 生成一步距离的词料库"
   ]
  },
  {
   "cell_type": "code",
   "execution_count": 6,
   "id": "5fd01cf6",
   "metadata": {},
   "outputs": [],
   "source": [
    "def getNextOne(inputs,words):\n",
    "    result = []\n",
    "    # insert 方式\n",
    "    temp = list(inputs)\n",
    "    for i in range(len(inputs)+1):\n",
    "        for j in range(len(words)):\n",
    "            temp.insert(i,words[j])\n",
    "            # 加入结果集中\n",
    "            result.append(\"\".join(temp))\n",
    "            temp = list(inputs)\n",
    "            \n",
    "    # replace 方式\n",
    "    for i in range(len(inputs)):\n",
    "        for j in range(len(words)):\n",
    "            if temp[i] == words[j]:\n",
    "                continue\n",
    "            temp[i] = words[j]\n",
    "            result.append(\"\".join(temp))\n",
    "            temp = list(inputs)\n",
    "            \n",
    "    # delete 方式\n",
    "    for i in range(len(inputs)):\n",
    "        temp.pop(i)\n",
    "        result.append(\"\".join(temp))\n",
    "        temp = list(inputs)\n",
    "        \n",
    "    return list(set(result))\n",
    "    "
   ]
  },
  {
   "cell_type": "code",
   "execution_count": 7,
   "id": "180bed16",
   "metadata": {},
   "outputs": [],
   "source": [
    "next_one_db = getNextOne(inputs,words)"
   ]
  },
  {
   "cell_type": "code",
   "execution_count": 8,
   "id": "3507e1b1",
   "metadata": {},
   "outputs": [
    {
     "data": {
      "text/plain": [
       "229"
      ]
     },
     "execution_count": 8,
     "metadata": {},
     "output_type": "execute_result"
    }
   ],
   "source": [
    "len(next_one_db)"
   ]
  },
  {
   "cell_type": "code",
   "execution_count": 9,
   "id": "f5e30b91",
   "metadata": {},
   "outputs": [],
   "source": [
    "# 生成第二步词库"
   ]
  },
  {
   "cell_type": "code",
   "execution_count": 10,
   "id": "d8bd7f8b",
   "metadata": {},
   "outputs": [],
   "source": [
    "def getNextTwo(inputs,words):\n",
    "    temp = getNextOne(inputs,words)\n",
    "    result = []\n",
    "    for string in temp:\n",
    "        result.append(string)\n",
    "        result = result + getNextOne(string,words)\n",
    "        \n",
    "    return list(set(result))"
   ]
  },
  {
   "cell_type": "code",
   "execution_count": 11,
   "id": "ce8a43ee",
   "metadata": {},
   "outputs": [],
   "source": [
    "next_two_db = getNextTwo(inputs,words)"
   ]
  },
  {
   "cell_type": "code",
   "execution_count": 12,
   "id": "df8e8ce4",
   "metadata": {},
   "outputs": [
    {
     "data": {
      "text/plain": [
       "23107"
      ]
     },
     "execution_count": 12,
     "metadata": {},
     "output_type": "execute_result"
    }
   ],
   "source": [
    "len(next_two_db)"
   ]
  },
  {
   "cell_type": "code",
   "execution_count": 13,
   "id": "713ead43",
   "metadata": {},
   "outputs": [],
   "source": [
    "# 设置全局词料库"
   ]
  },
  {
   "cell_type": "code",
   "execution_count": 14,
   "id": "86238011",
   "metadata": {},
   "outputs": [],
   "source": [
    "word_db = [\"apple\",\"app\",\"apply\",\"appal\",\"appar\"]\n",
    "word_prob = [0.5 ,0.2 ,0.3 ,0.1 ,0.05]\n",
    "word_logits = [1.6 ,3 ,2 ,5 ,8]"
   ]
  },
  {
   "cell_type": "code",
   "execution_count": 15,
   "id": "9dc50ae1",
   "metadata": {},
   "outputs": [],
   "source": [
    "data = np.array([word_db,word_prob,word_logits])"
   ]
  },
  {
   "cell_type": "code",
   "execution_count": 16,
   "id": "74d79239",
   "metadata": {},
   "outputs": [],
   "source": [
    "# 设置一个概率库"
   ]
  },
  {
   "cell_type": "code",
   "execution_count": 17,
   "id": "480dc24b",
   "metadata": {},
   "outputs": [],
   "source": [
    "def getNext(data,next_two_db):\n",
    "    probs = [100 for _ in range(len(next_two_db))]\n",
    "    for i in range(len(probs)):\n",
    "        for j in range(len(data[0])):\n",
    "            if next_two_db[i] == data[0][j]:\n",
    "                probs[i] = float(data[2][j])\n",
    "                break\n",
    "    min_index = np.argmin(probs)\n",
    "    result = next_two_db[min_index]\n",
    "    return result"
   ]
  },
  {
   "cell_type": "code",
   "execution_count": 18,
   "id": "fa79114a",
   "metadata": {},
   "outputs": [
    {
     "data": {
      "text/plain": [
       "'apple'"
      ]
     },
     "execution_count": 18,
     "metadata": {},
     "output_type": "execute_result"
    }
   ],
   "source": [
    "getNext(data,next_two_db)"
   ]
  },
  {
   "cell_type": "code",
   "execution_count": 19,
   "id": "0b2cf1db",
   "metadata": {},
   "outputs": [],
   "source": [
    "# 这里使用直接就是最暴力的选最大概率的，但是实际要结合上下文，所以就需要贝叶斯概率来计算是不是生成某个词汇"
   ]
  },
  {
   "cell_type": "code",
   "execution_count": 20,
   "id": "3d6c0eb5",
   "metadata": {},
   "outputs": [],
   "source": [
    "# 在统计到输入appl ==>apple 个数有 4个，appl ==>apply 个数有6个时，这就是P（s\\c）表示appl发生时==》c 的概率"
   ]
  },
  {
   "cell_type": "code",
   "execution_count": 21,
   "id": "94b9de39",
   "metadata": {},
   "outputs": [],
   "source": [
    "# 根据贝叶斯概率就是P（s,c） = p(s|c)*p(c) 这里的c就是全局概率也就是词料库"
   ]
  },
  {
   "cell_type": "code",
   "execution_count": 22,
   "id": "0aa074a8",
   "metadata": {},
   "outputs": [],
   "source": [
    "# 根据经验所以就只会有apple 和 appLy 两个选择，其他都会是0*P（C）"
   ]
  },
  {
   "cell_type": "code",
   "execution_count": null,
   "id": "8cd4c95d",
   "metadata": {},
   "outputs": [],
   "source": []
  }
 ],
 "metadata": {
  "kernelspec": {
   "display_name": "Python 3",
   "language": "python",
   "name": "python3"
  },
  "language_info": {
   "codemirror_mode": {
    "name": "ipython",
    "version": 3
   },
   "file_extension": ".py",
   "mimetype": "text/x-python",
   "name": "python",
   "nbconvert_exporter": "python",
   "pygments_lexer": "ipython3",
   "version": "3.8.8"
  }
 },
 "nbformat": 4,
 "nbformat_minor": 5
}
