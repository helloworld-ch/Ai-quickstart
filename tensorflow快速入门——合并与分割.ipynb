{
 "cells": [
  {
   "cell_type": "code",
   "execution_count": 1,
   "id": "115b2c5d",
   "metadata": {},
   "outputs": [],
   "source": [
    "import tensorflow as tf"
   ]
  },
  {
   "cell_type": "code",
   "execution_count": 2,
   "id": "b1a5809f",
   "metadata": {},
   "outputs": [],
   "source": [
    "import numpy as np"
   ]
  },
  {
   "cell_type": "code",
   "execution_count": 3,
   "id": "caa1c5d2",
   "metadata": {},
   "outputs": [],
   "source": [
    "a = tf.constant(1)"
   ]
  },
  {
   "cell_type": "code",
   "execution_count": 4,
   "id": "144b3b00",
   "metadata": {},
   "outputs": [
    {
     "data": {
      "text/plain": [
       "<tf.Tensor: shape=(), dtype=int32, numpy=1>"
      ]
     },
     "execution_count": 4,
     "metadata": {},
     "output_type": "execute_result"
    }
   ],
   "source": [
    "a"
   ]
  },
  {
   "cell_type": "code",
   "execution_count": 5,
   "id": "7d5a16fd",
   "metadata": {},
   "outputs": [],
   "source": [
    "a = tf.fill([2,3,4],12)"
   ]
  },
  {
   "cell_type": "code",
   "execution_count": 6,
   "id": "88ecfa71",
   "metadata": {},
   "outputs": [
    {
     "data": {
      "text/plain": [
       "<tf.Tensor: shape=(2, 3, 4), dtype=int32, numpy=\n",
       "array([[[12, 12, 12, 12],\n",
       "        [12, 12, 12, 12],\n",
       "        [12, 12, 12, 12]],\n",
       "\n",
       "       [[12, 12, 12, 12],\n",
       "        [12, 12, 12, 12],\n",
       "        [12, 12, 12, 12]]])>"
      ]
     },
     "execution_count": 6,
     "metadata": {},
     "output_type": "execute_result"
    }
   ],
   "source": [
    "a"
   ]
  },
  {
   "cell_type": "code",
   "execution_count": 7,
   "id": "25e2347f",
   "metadata": {},
   "outputs": [],
   "source": [
    "b = tf.fill([3,3,4],11)"
   ]
  },
  {
   "cell_type": "code",
   "execution_count": 8,
   "id": "8209de00",
   "metadata": {},
   "outputs": [],
   "source": [
    "c = [a,b]"
   ]
  },
  {
   "cell_type": "code",
   "execution_count": 9,
   "id": "abc6fece",
   "metadata": {},
   "outputs": [
    {
     "data": {
      "text/plain": [
       "[<tf.Tensor: shape=(2, 3, 4), dtype=int32, numpy=\n",
       " array([[[12, 12, 12, 12],\n",
       "         [12, 12, 12, 12],\n",
       "         [12, 12, 12, 12]],\n",
       " \n",
       "        [[12, 12, 12, 12],\n",
       "         [12, 12, 12, 12],\n",
       "         [12, 12, 12, 12]]])>,\n",
       " <tf.Tensor: shape=(3, 3, 4), dtype=int32, numpy=\n",
       " array([[[11, 11, 11, 11],\n",
       "         [11, 11, 11, 11],\n",
       "         [11, 11, 11, 11]],\n",
       " \n",
       "        [[11, 11, 11, 11],\n",
       "         [11, 11, 11, 11],\n",
       "         [11, 11, 11, 11]],\n",
       " \n",
       "        [[11, 11, 11, 11],\n",
       "         [11, 11, 11, 11],\n",
       "         [11, 11, 11, 11]]])>]"
      ]
     },
     "execution_count": 9,
     "metadata": {},
     "output_type": "execute_result"
    }
   ],
   "source": [
    "c"
   ]
  },
  {
   "cell_type": "code",
   "execution_count": 10,
   "id": "10e4846c",
   "metadata": {},
   "outputs": [
    {
     "data": {
      "text/plain": [
       "<tf.Tensor: shape=(2, 3, 4), dtype=int32, numpy=\n",
       "array([[[12, 12, 12, 12],\n",
       "        [12, 12, 12, 12],\n",
       "        [12, 12, 12, 12]],\n",
       "\n",
       "       [[12, 12, 12, 12],\n",
       "        [12, 12, 12, 12],\n",
       "        [12, 12, 12, 12]]])>"
      ]
     },
     "execution_count": 10,
     "metadata": {},
     "output_type": "execute_result"
    }
   ],
   "source": [
    "a"
   ]
  },
  {
   "cell_type": "code",
   "execution_count": 21,
   "id": "8c6f7627",
   "metadata": {},
   "outputs": [],
   "source": [
    "a = tf.fill([3,4,5,6],14)\n",
    "b = tf.ones([2,4,5,6],dtype='int32')"
   ]
  },
  {
   "cell_type": "code",
   "execution_count": 24,
   "id": "8d824882",
   "metadata": {},
   "outputs": [],
   "source": [
    "c = tf.concat([a,b],axis=0) # "
   ]
  },
  {
   "cell_type": "code",
   "execution_count": null,
   "id": "3a3f1f3e",
   "metadata": {},
   "outputs": [],
   "source": []
  }
 ],
 "metadata": {
  "kernelspec": {
   "display_name": "Python 3 (ipykernel)",
   "language": "python",
   "name": "python3"
  },
  "language_info": {
   "codemirror_mode": {
    "name": "ipython",
    "version": 3
   },
   "file_extension": ".py",
   "mimetype": "text/x-python",
   "name": "python",
   "nbconvert_exporter": "python",
   "pygments_lexer": "ipython3",
   "version": "3.9.12"
  }
 },
 "nbformat": 4,
 "nbformat_minor": 5
}
