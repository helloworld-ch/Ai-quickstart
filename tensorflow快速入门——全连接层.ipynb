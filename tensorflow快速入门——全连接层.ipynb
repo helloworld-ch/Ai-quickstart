{
 "cells": [
  {
   "cell_type": "code",
   "execution_count": 1,
   "id": "a6b0b0e5",
   "metadata": {},
   "outputs": [],
   "source": [
    "import tensorflow as tf "
   ]
  },
  {
   "cell_type": "code",
   "execution_count": 4,
   "id": "bc9e5037",
   "metadata": {},
   "outputs": [],
   "source": [
    "# 定义神经网络层数"
   ]
  },
  {
   "cell_type": "code",
   "execution_count": 5,
   "id": "948b6615",
   "metadata": {},
   "outputs": [],
   "source": [
    "x = tf.random.uniform([4,3],maxval=10,dtype=tf.int32) # 4个样本，每个样本3维"
   ]
  },
  {
   "cell_type": "code",
   "execution_count": 6,
   "id": "b7546b0a",
   "metadata": {},
   "outputs": [],
   "source": [
    "net = tf.keras.layers.Dense(2) #变成 2维的网络 [b,N]==>[b,2] 这里就是[4,3] ==>[4,2]"
   ]
  },
  {
   "cell_type": "code",
   "execution_count": 7,
   "id": "d6c68727",
   "metadata": {},
   "outputs": [],
   "source": [
    "out = net(x)"
   ]
  },
  {
   "cell_type": "code",
   "execution_count": 8,
   "id": "b4ca5c6f",
   "metadata": {},
   "outputs": [
    {
     "data": {
      "text/plain": [
       "(TensorShape([3, 2]), TensorShape([2]))"
      ]
     },
     "execution_count": 8,
     "metadata": {},
     "output_type": "execute_result"
    }
   ],
   "source": [
    "net.kernel.shape,net.bias.shape # kernel表示权重W矩阵 bias表示偏置B矩阵"
   ]
  },
  {
   "cell_type": "code",
   "execution_count": 9,
   "id": "3e9112f6",
   "metadata": {},
   "outputs": [
    {
     "data": {
      "text/plain": [
       "TensorShape([4, 2])"
      ]
     },
     "execution_count": 9,
     "metadata": {},
     "output_type": "execute_result"
    }
   ],
   "source": [
    "out.shape"
   ]
  },
  {
   "cell_type": "code",
   "execution_count": 10,
   "id": "97f0dc9e",
   "metadata": {},
   "outputs": [
    {
     "data": {
      "text/plain": [
       "<tf.Tensor: shape=(4, 2), dtype=float32, numpy=\n",
       "array([[12.037233  , -5.5500937 ],\n",
       "       [ 5.472966  , -1.1209676 ],\n",
       "       [ 9.721246  ,  0.31021625],\n",
       "       [ 5.456813  , -0.5396297 ]], dtype=float32)>"
      ]
     },
     "execution_count": 10,
     "metadata": {},
     "output_type": "execute_result"
    }
   ],
   "source": [
    "out"
   ]
  },
  {
   "cell_type": "code",
   "execution_count": 11,
   "id": "92fe6b0d",
   "metadata": {},
   "outputs": [
    {
     "data": {
      "text/plain": [
       "<tf.Tensor: shape=(4, 3), dtype=int32, numpy=\n",
       "array([[4, 0, 8],\n",
       "       [5, 3, 0],\n",
       "       [0, 5, 9],\n",
       "       [3, 3, 2]])>"
      ]
     },
     "execution_count": 11,
     "metadata": {},
     "output_type": "execute_result"
    }
   ],
   "source": [
    "x"
   ]
  },
  {
   "cell_type": "code",
   "execution_count": 12,
   "id": "b7179c41",
   "metadata": {},
   "outputs": [],
   "source": [
    "# 将out 作0~1区间的转换"
   ]
  },
  {
   "cell_type": "code",
   "execution_count": 13,
   "id": "ff052048",
   "metadata": {},
   "outputs": [],
   "source": [
    "out = tf.math.softmax(out,axis=1)"
   ]
  },
  {
   "cell_type": "code",
   "execution_count": 15,
   "id": "a9b4a21f",
   "metadata": {},
   "outputs": [
    {
     "data": {
      "text/plain": [
       "<tf.Tensor: shape=(4, 2), dtype=float32, numpy=\n",
       "array([[1.0000000e+00, 2.3010250e-08],\n",
       "       [9.9863321e-01, 1.3667743e-03],\n",
       "       [9.9991822e-01, 8.1809958e-05],\n",
       "       [9.9751866e-01, 2.4814128e-03]], dtype=float32)>"
      ]
     },
     "execution_count": 15,
     "metadata": {},
     "output_type": "execute_result"
    }
   ],
   "source": [
    "out"
   ]
  },
  {
   "cell_type": "code",
   "execution_count": 16,
   "id": "16371aa4",
   "metadata": {},
   "outputs": [],
   "source": [
    "# 取出最大值分类"
   ]
  },
  {
   "cell_type": "code",
   "execution_count": 17,
   "id": "f2b7fc3f",
   "metadata": {},
   "outputs": [],
   "source": [
    "out_index = tf.math.argmax(out,axis=1)"
   ]
  },
  {
   "cell_type": "code",
   "execution_count": 18,
   "id": "01fd6dc9",
   "metadata": {},
   "outputs": [],
   "source": [
    "y = tf.random.uniform([4],maxval=2,dtype=tf.int32)"
   ]
  },
  {
   "cell_type": "code",
   "execution_count": 19,
   "id": "42048457",
   "metadata": {},
   "outputs": [
    {
     "data": {
      "text/plain": [
       "<tf.Tensor: shape=(4,), dtype=int32, numpy=array([1, 1, 0, 1])>"
      ]
     },
     "execution_count": 19,
     "metadata": {},
     "output_type": "execute_result"
    }
   ],
   "source": [
    "y"
   ]
  },
  {
   "cell_type": "code",
   "execution_count": 27,
   "id": "d2820c42",
   "metadata": {},
   "outputs": [],
   "source": [
    "out_index = tf.cast(out_index,dtype=tf.int32)"
   ]
  },
  {
   "cell_type": "code",
   "execution_count": 24,
   "id": "23daf84d",
   "metadata": {},
   "outputs": [],
   "source": [
    "# 计算损失值"
   ]
  },
  {
   "cell_type": "code",
   "execution_count": 28,
   "id": "6f902c40",
   "metadata": {},
   "outputs": [
    {
     "data": {
      "text/plain": [
       "(tf.int32, tf.int32)"
      ]
     },
     "execution_count": 28,
     "metadata": {},
     "output_type": "execute_result"
    }
   ],
   "source": [
    "out_index.dtype,y.dtype"
   ]
  },
  {
   "cell_type": "code",
   "execution_count": 29,
   "id": "80fcc7f5",
   "metadata": {},
   "outputs": [],
   "source": [
    "loss = tf.math.reduce_sum(tf.cast(tf.equal(out_index,y),dtype=tf.int32))"
   ]
  },
  {
   "cell_type": "code",
   "execution_count": 30,
   "id": "8acbcc91",
   "metadata": {},
   "outputs": [
    {
     "data": {
      "text/plain": [
       "<tf.Tensor: shape=(), dtype=int32, numpy=1>"
      ]
     },
     "execution_count": 30,
     "metadata": {},
     "output_type": "execute_result"
    }
   ],
   "source": [
    "loss"
   ]
  },
  {
   "cell_type": "code",
   "execution_count": 31,
   "id": "dfd68022",
   "metadata": {},
   "outputs": [],
   "source": [
    "# 求均值"
   ]
  },
  {
   "cell_type": "code",
   "execution_count": 32,
   "id": "09b317ce",
   "metadata": {},
   "outputs": [],
   "source": [
    "loss_mean = loss/x.shape[0]"
   ]
  },
  {
   "cell_type": "code",
   "execution_count": 33,
   "id": "0eda0465",
   "metadata": {},
   "outputs": [
    {
     "data": {
      "text/plain": [
       "<tf.Tensor: shape=(), dtype=float64, numpy=0.25>"
      ]
     },
     "execution_count": 33,
     "metadata": {},
     "output_type": "execute_result"
    }
   ],
   "source": [
    "loss_mean"
   ]
  },
  {
   "cell_type": "code",
   "execution_count": null,
   "id": "b0efe762",
   "metadata": {},
   "outputs": [],
   "source": []
  }
 ],
 "metadata": {
  "kernelspec": {
   "display_name": "Python 3 (ipykernel)",
   "language": "python",
   "name": "python3"
  },
  "language_info": {
   "codemirror_mode": {
    "name": "ipython",
    "version": 3
   },
   "file_extension": ".py",
   "mimetype": "text/x-python",
   "name": "python",
   "nbconvert_exporter": "python",
   "pygments_lexer": "ipython3",
   "version": "3.9.12"
  }
 },
 "nbformat": 4,
 "nbformat_minor": 5
}
