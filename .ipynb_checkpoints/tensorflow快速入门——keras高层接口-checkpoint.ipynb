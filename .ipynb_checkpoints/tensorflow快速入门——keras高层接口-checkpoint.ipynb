{
 "cells": [
  {
   "cell_type": "code",
   "execution_count": 1,
   "id": "60cfe3c2",
   "metadata": {},
   "outputs": [],
   "source": [
    "import tensorflow as tf\n",
    "from tensorflow import keras"
   ]
  },
  {
   "cell_type": "code",
   "execution_count": 2,
   "id": "9f20d32d",
   "metadata": {},
   "outputs": [],
   "source": [
    "# 数据准备"
   ]
  },
  {
   "cell_type": "code",
   "execution_count": 3,
   "id": "e25669d5",
   "metadata": {},
   "outputs": [],
   "source": [
    "(x,y),(x_test,y_test) = keras.datasets.mnist.load_data()"
   ]
  },
  {
   "cell_type": "code",
   "execution_count": 4,
   "id": "b6ce5470",
   "metadata": {},
   "outputs": [],
   "source": [
    "def proccess(x,y):\n",
    "    x = tf.convert_to_tensor(tf.cast(x,dtype=tf.float32))/255.\n",
    "    y = tf.convert_to_tensor(tf.cast(y,dtype=tf.int32))\n",
    "    x = tf.reshape(x,[28*28])\n",
    "    y = tf.one_hot(y,depth=10)\n",
    "    return x,y"
   ]
  },
  {
   "cell_type": "code",
   "execution_count": 5,
   "id": "e1c6ff12",
   "metadata": {},
   "outputs": [],
   "source": [
    "# 设置banchsize"
   ]
  },
  {
   "cell_type": "code",
   "execution_count": 6,
   "id": "c096bf99",
   "metadata": {},
   "outputs": [],
   "source": [
    "banchsize = 128"
   ]
  },
  {
   "cell_type": "code",
   "execution_count": 7,
   "id": "95190f90",
   "metadata": {},
   "outputs": [],
   "source": [
    "train_db = tf.data.Dataset.from_tensor_slices((x,y)).map(proccess).shuffle(10000).batch(banchsize)\n",
    "test_db = tf.data.Dataset.from_tensor_slices((x,y)).map(proccess).batch(banchsize)"
   ]
  },
  {
   "cell_type": "code",
   "execution_count": 8,
   "id": "a6c76031",
   "metadata": {},
   "outputs": [],
   "source": [
    "network = tf.keras.Sequential([\n",
    "    tf.keras.layers.Dense(256,activation='relu'), # [b,784] =>[b,256]\n",
    "    tf.keras.layers.Dense(128,activation='relu'), # [b,256] =>[b,128]\n",
    "    tf.keras.layers.Dense(64,activation='relu'), # [b,128] =>[b,64]\n",
    "    tf.keras.layers.Dense(32,activation='relu'), # [b,64] =>[b,32]\n",
    "    tf.keras.layers.Dense(10), # [b,32] =>[b,10]\n",
    "])"
   ]
  },
  {
   "cell_type": "code",
   "execution_count": 9,
   "id": "060038d1",
   "metadata": {},
   "outputs": [],
   "source": [
    "network.build(input_shape=[None,28*28])"
   ]
  },
  {
   "cell_type": "code",
   "execution_count": 10,
   "id": "eb8691e3",
   "metadata": {},
   "outputs": [
    {
     "name": "stdout",
     "output_type": "stream",
     "text": [
      "Model: \"sequential\"\n",
      "_________________________________________________________________\n",
      " Layer (type)                Output Shape              Param #   \n",
      "=================================================================\n",
      " dense (Dense)               (None, 256)               200960    \n",
      "                                                                 \n",
      " dense_1 (Dense)             (None, 128)               32896     \n",
      "                                                                 \n",
      " dense_2 (Dense)             (None, 64)                8256      \n",
      "                                                                 \n",
      " dense_3 (Dense)             (None, 32)                2080      \n",
      "                                                                 \n",
      " dense_4 (Dense)             (None, 10)                330       \n",
      "                                                                 \n",
      "=================================================================\n",
      "Total params: 244,522\n",
      "Trainable params: 244,522\n",
      "Non-trainable params: 0\n",
      "_________________________________________________________________\n"
     ]
    }
   ],
   "source": [
    "network.summary()"
   ]
  },
  {
   "cell_type": "code",
   "execution_count": 13,
   "id": "cbf4b695",
   "metadata": {},
   "outputs": [],
   "source": [
    "network.compile(optimizer=tf.keras.optimizers.Adam(1e-3),\n",
    "               loss=tf.losses.CategoricalCrossentropy(from_logits=True),\n",
    "            metrics=['accuracy']) # metrics 置信度函数"
   ]
  },
  {
   "cell_type": "code",
   "execution_count": 14,
   "id": "afd54606",
   "metadata": {},
   "outputs": [
    {
     "name": "stdout",
     "output_type": "stream",
     "text": [
      "Epoch 1/10\n",
      "469/469 [==============================] - 3s 4ms/step - loss: 0.0191 - accuracy: 0.9937\n",
      "Epoch 2/10\n",
      "469/469 [==============================] - 3s 6ms/step - loss: 0.0153 - accuracy: 0.9952 - val_loss: 0.0087 - val_accuracy: 0.9970\n",
      "Epoch 3/10\n",
      "469/469 [==============================] - 2s 4ms/step - loss: 0.0162 - accuracy: 0.9948\n",
      "Epoch 4/10\n",
      "469/469 [==============================] - 3s 6ms/step - loss: 0.0112 - accuracy: 0.9963 - val_loss: 0.0126 - val_accuracy: 0.9960\n",
      "Epoch 5/10\n",
      "469/469 [==============================] - 2s 4ms/step - loss: 0.0118 - accuracy: 0.9961\n",
      "Epoch 6/10\n",
      "469/469 [==============================] - 3s 6ms/step - loss: 0.0139 - accuracy: 0.9955 - val_loss: 0.0050 - val_accuracy: 0.9984\n",
      "Epoch 7/10\n",
      "469/469 [==============================] - 2s 4ms/step - loss: 0.0105 - accuracy: 0.9964\n",
      "Epoch 8/10\n",
      "469/469 [==============================] - 3s 6ms/step - loss: 0.0105 - accuracy: 0.9965 - val_loss: 0.0091 - val_accuracy: 0.9971\n",
      "Epoch 9/10\n",
      "469/469 [==============================] - 2s 4ms/step - loss: 0.0100 - accuracy: 0.9968\n",
      "Epoch 10/10\n",
      "469/469 [==============================] - 3s 6ms/step - loss: 0.0100 - accuracy: 0.9972 - val_loss: 0.0095 - val_accuracy: 0.9969\n"
     ]
    },
    {
     "data": {
      "text/plain": [
       "<keras.callbacks.History at 0x1936bfbe8e0>"
      ]
     },
     "execution_count": 14,
     "metadata": {},
     "output_type": "execute_result"
    }
   ],
   "source": [
    "network.fit(train_db,epochs=10,validation_data=test_db,validation_freq=2)"
   ]
  },
  {
   "cell_type": "code",
   "execution_count": 16,
   "id": "b4dce1ff",
   "metadata": {},
   "outputs": [],
   "source": [
    "sample = next(iter(test_db))"
   ]
  },
  {
   "cell_type": "code",
   "execution_count": 20,
   "id": "816c6945",
   "metadata": {},
   "outputs": [
    {
     "name": "stdout",
     "output_type": "stream",
     "text": [
      "4/4 [==============================] - 0s 3ms/step\n"
     ]
    }
   ],
   "source": [
    "x = sample[0]\n",
    "y = sample[1] # one-hot\n",
    "pred = network.predict(x) # [b, 10]获得一个batch的值  # 作预测\n",
    "# convert back to number \n",
    "y = tf.argmax(y, axis=1)\n",
    "pred = tf.argmax(pred, axis=1)"
   ]
  },
  {
   "cell_type": "code",
   "execution_count": 21,
   "id": "1267c916",
   "metadata": {},
   "outputs": [
    {
     "name": "stdout",
     "output_type": "stream",
     "text": [
      "tf.Tensor(\n",
      "[5 0 4 1 9 2 1 3 1 4 3 5 3 6 1 7 2 8 6 9 4 0 9 1 1 2 4 3 2 7 3 8 6 9 0 5 6\n",
      " 0 7 6 1 8 7 9 3 9 8 5 9 3 3 0 7 4 9 8 0 9 4 1 4 4 6 0 4 5 6 1 0 0 1 7 1 6\n",
      " 3 0 2 1 1 7 9 0 2 6 7 8 3 9 0 4 6 7 4 6 8 0 7 8 3 1 5 7 1 7 1 1 6 3 0 2 9\n",
      " 3 1 1 0 4 9 2 0 0 2 0 2 7 1 8 6 4], shape=(128,), dtype=int64)\n",
      "tf.Tensor(\n",
      "[5 0 4 1 9 2 1 3 1 4 3 5 3 6 1 7 2 8 6 9 4 0 9 1 1 2 4 3 2 7 3 8 6 9 0 5 6\n",
      " 0 7 6 1 8 7 9 3 9 8 5 9 3 3 0 7 4 9 8 0 9 4 1 4 4 6 0 4 5 6 1 0 0 1 7 1 6\n",
      " 3 0 2 1 1 7 9 0 2 6 7 8 3 9 0 4 6 7 4 6 8 0 7 8 3 1 5 7 1 7 1 1 6 3 0 2 9\n",
      " 3 1 1 0 4 9 2 0 0 2 0 2 7 1 8 6 4], shape=(128,), dtype=int64)\n"
     ]
    }
   ],
   "source": [
    "print(pred)\n",
    "print(y)"
   ]
  },
  {
   "cell_type": "code",
   "execution_count": null,
   "id": "c57f5f2e",
   "metadata": {},
   "outputs": [],
   "source": []
  }
 ],
 "metadata": {
  "kernelspec": {
   "display_name": "Python 3 (ipykernel)",
   "language": "python",
   "name": "python3"
  },
  "language_info": {
   "codemirror_mode": {
    "name": "ipython",
    "version": 3
   },
   "file_extension": ".py",
   "mimetype": "text/x-python",
   "name": "python",
   "nbconvert_exporter": "python",
   "pygments_lexer": "ipython3",
   "version": "3.9.12"
  }
 },
 "nbformat": 4,
 "nbformat_minor": 5
}
