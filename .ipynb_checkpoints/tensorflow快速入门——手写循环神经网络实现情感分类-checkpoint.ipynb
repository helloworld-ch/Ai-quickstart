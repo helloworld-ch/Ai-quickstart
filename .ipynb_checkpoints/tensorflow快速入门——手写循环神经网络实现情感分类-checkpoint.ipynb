{
 "cells": [
  {
   "cell_type": "code",
   "execution_count": 1,
   "id": "208c2d0b",
   "metadata": {},
   "outputs": [],
   "source": [
    "import tensorflow as tf"
   ]
  },
  {
   "cell_type": "code",
   "execution_count": 4,
   "id": "cdd3960e",
   "metadata": {},
   "outputs": [
    {
     "name": "stdout",
     "output_type": "stream",
     "text": [
      "(25000, 80) tf.Tensor(0, shape=(), dtype=int64) tf.Tensor(1, shape=(), dtype=int64)\n",
      "(25000, 80)\n"
     ]
    }
   ],
   "source": [
    "# 加载数据集\n",
    "num_words=10000\n",
    "(x_train,y_train),(x_test,y_test) = tf.keras.datasets.imdb.load_data(num_words=num_words)\n",
    "# 数据预处理\n",
    "max_len = 80\n",
    "x_train = tf.keras.preprocessing.sequence.pad_sequences(x_train,maxlen=max_len)\n",
    "x_test = tf.keras.preprocessing.sequence.pad_sequences(x_test,maxlen=max_len)\n",
    "\n",
    "# 设置数据加载器\n",
    "batch_size = 128\n",
    "train_db = tf.data.Dataset.from_tensor_slices((x_train,y_train))\n",
    "train_db = train_db.shuffle(1000).batch(batch_size,drop_remainder=True)\n",
    "test_db = tf.data.Dataset.from_tensor_slices((x_test,y_test))\n",
    "test_db =test_db.batch(batch_size,drop_remainder=True)\n",
    "print(x_train.shape,tf.reduce_min(y_train),tf.reduce_max(y_train))\n",
    "print(x_test.shape)"
   ]
  },
  {
   "cell_type": "markdown",
   "id": "c08543f7",
   "metadata": {},
   "source": [
    "### 搭建网络模型"
   ]
  },
  {
   "cell_type": "code",
   "execution_count": 55,
   "id": "5a7a8805",
   "metadata": {},
   "outputs": [],
   "source": [
    "embedding_len = 100\n",
    "class Rnn_Net(tf.keras.models.Model):\n",
    "    def __init__(self,units):\n",
    "        super(Rnn_Net,self).__init__()\n",
    "        \n",
    "        self.state0 = tf.zeros([batch_size,units])\n",
    "        self.state1 = tf.zeros([batch_size,units])\n",
    "        # 设置层处理\n",
    "        self.embedding = tf.keras.layers.Embedding(num_words,embedding_len\n",
    "                                                   ,input_length=max_len)\n",
    "        # 循环层1\n",
    "        # 【b,80,100】 =>[b,units]\n",
    "        self.rnn_cell0 = tf.keras.layers.SimpleRNNCell(units,dropout=0.2)\n",
    "        \n",
    "        # 循环层2\n",
    "        self.rnn_cell1 = tf.keras.layers.SimpleRNNCell(units,dropout=0.2)\n",
    "        \n",
    "        # 全连接层\n",
    "        self.outlayer = tf.keras.layers.Dense(1)\n",
    "        \n",
    "    def call(self,inputs,training = None):\n",
    "        # inputs = [b,80,100]\n",
    "        x = inputs\n",
    "        x = self.embedding(x)\n",
    "        \n",
    "        state0 = self.state0\n",
    "        state1 = self.state1\n",
    "        for word in tf.unstack(x,axis=1):\n",
    "            out0,state0 = self.rnn_cell0(word,state0,training)\n",
    "            out1,state1 = self.rnn_cell1(out0,state1,training)\n",
    "        \n",
    "        # 输出\n",
    "        out = self.outlayer(out1)\n",
    "        prob = tf.nn.sigmoid(out)\n",
    "        \n",
    "        return prob\n",
    "        \n",
    "        "
   ]
  },
  {
   "cell_type": "markdown",
   "id": "f3cf054e",
   "metadata": {},
   "source": [
    "### 搭建主体训练框架"
   ]
  },
  {
   "cell_type": "code",
   "execution_count": 56,
   "id": "fea86a17",
   "metadata": {},
   "outputs": [
    {
     "name": "stdout",
     "output_type": "stream",
     "text": [
      "Model: \"rnn__net_17\"\n",
      "_________________________________________________________________\n",
      " Layer (type)                Output Shape              Param #   \n",
      "=================================================================\n",
      " embedding_16 (Embedding)    multiple                  1000000   \n",
      "                                                                 \n",
      " simple_rnn_cell_17 (SimpleR  multiple                 10560     \n",
      " NNCell)                                                         \n",
      "                                                                 \n",
      " simple_rnn_cell_18 (SimpleR  multiple                 8256      \n",
      " NNCell)                                                         \n",
      "                                                                 \n",
      " dense_15 (Dense)            multiple                  65        \n",
      "                                                                 \n",
      "=================================================================\n",
      "Total params: 1,018,881\n",
      "Trainable params: 1,018,881\n",
      "Non-trainable params: 0\n",
      "_________________________________________________________________\n"
     ]
    }
   ],
   "source": [
    "units = 64\n",
    "model = Rnn_Net(units)\n",
    "    \n",
    "model.build(input_shape=[None,80])\n",
    "model.summary()\n",
    "def train(echops):\n",
    "    model.compile(optimizer=tf.optimizers.Adam(0.001),\n",
    "                 loss=tf.losses.BinaryCrossentropy(),\n",
    "                 metrics=['accuracy'])\n",
    "    model.fit(train_db,epochs=echops,validation_data=test_db)"
   ]
  },
  {
   "cell_type": "markdown",
   "id": "be813e8e",
   "metadata": {},
   "source": [
    "### 模型评估"
   ]
  },
  {
   "cell_type": "code",
   "execution_count": 57,
   "id": "d9a6b16b",
   "metadata": {},
   "outputs": [],
   "source": [
    "def test():\n",
    "    model.evaluate(test_db)"
   ]
  },
  {
   "cell_type": "code",
   "execution_count": 58,
   "id": "257570c5",
   "metadata": {},
   "outputs": [
    {
     "name": "stdout",
     "output_type": "stream",
     "text": [
      "Epoch 1/4\n",
      "195/195 [==============================] - 19s 60ms/step - loss: 0.5772 - accuracy: 0.6640 - val_loss: 0.4134 - val_accuracy: 0.8182\n",
      "Epoch 2/4\n",
      "195/195 [==============================] - 10s 49ms/step - loss: 0.3531 - accuracy: 0.8504 - val_loss: 0.3990 - val_accuracy: 0.8280\n",
      "Epoch 3/4\n",
      "195/195 [==============================] - 10s 52ms/step - loss: 0.2178 - accuracy: 0.9157 - val_loss: 0.4862 - val_accuracy: 0.8180\n",
      "Epoch 4/4\n",
      "195/195 [==============================] - 10s 53ms/step - loss: 0.1021 - accuracy: 0.9633 - val_loss: 0.6465 - val_accuracy: 0.8058\n",
      "195/195 [==============================] - 3s 14ms/step - loss: 0.6465 - accuracy: 0.8058\n"
     ]
    }
   ],
   "source": [
    "train(4)\n",
    "test()"
   ]
  },
  {
   "cell_type": "code",
   "execution_count": null,
   "id": "67f98721",
   "metadata": {},
   "outputs": [],
   "source": []
  }
 ],
 "metadata": {
  "kernelspec": {
   "display_name": "Python 3 (ipykernel)",
   "language": "python",
   "name": "python3"
  },
  "language_info": {
   "codemirror_mode": {
    "name": "ipython",
    "version": 3
   },
   "file_extension": ".py",
   "mimetype": "text/x-python",
   "name": "python",
   "nbconvert_exporter": "python",
   "pygments_lexer": "ipython3",
   "version": "3.9.12"
  }
 },
 "nbformat": 4,
 "nbformat_minor": 5
}
