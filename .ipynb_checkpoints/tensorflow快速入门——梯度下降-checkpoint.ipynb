{
 "cells": [
  {
   "cell_type": "code",
   "execution_count": 3,
   "id": "0d216bb8",
   "metadata": {},
   "outputs": [],
   "source": [
    "import tensorflow as tf"
   ]
  },
  {
   "cell_type": "code",
   "execution_count": 6,
   "id": "a6563b6f",
   "metadata": {},
   "outputs": [],
   "source": [
    "w = tf.Variable(3.)"
   ]
  },
  {
   "cell_type": "code",
   "execution_count": 7,
   "id": "8d2531af",
   "metadata": {},
   "outputs": [],
   "source": [
    "x = tf.Variable(3.)"
   ]
  },
  {
   "cell_type": "code",
   "execution_count": 8,
   "id": "6cc068ca",
   "metadata": {},
   "outputs": [],
   "source": [
    "b = tf.Variable(1.)"
   ]
  },
  {
   "cell_type": "code",
   "execution_count": 9,
   "id": "999eb0cf",
   "metadata": {},
   "outputs": [],
   "source": [
    "with tf.GradientTape() as tape:\n",
    "    tape.watch([w])\n",
    "    y = w*x+b\n",
    "grad_w,grad_b = tape.gradient(y,[w,b])"
   ]
  },
  {
   "cell_type": "code",
   "execution_count": 10,
   "id": "fd98299b",
   "metadata": {},
   "outputs": [
    {
     "data": {
      "text/plain": [
       "(<tf.Tensor: shape=(), dtype=float32, numpy=3.0>,\n",
       " <tf.Tensor: shape=(), dtype=float32, numpy=1.0>)"
      ]
     },
     "execution_count": 10,
     "metadata": {},
     "output_type": "execute_result"
    }
   ],
   "source": [
    "grad_w,grad_b"
   ]
  },
  {
   "cell_type": "code",
   "execution_count": 11,
   "id": "12d1716e",
   "metadata": {},
   "outputs": [],
   "source": [
    "# 连续求导"
   ]
  },
  {
   "cell_type": "code",
   "execution_count": 12,
   "id": "b315f650",
   "metadata": {},
   "outputs": [],
   "source": [
    "W = tf.Variable(1.)"
   ]
  },
  {
   "cell_type": "code",
   "execution_count": 13,
   "id": "25ff5f31",
   "metadata": {},
   "outputs": [],
   "source": [
    "X = tf.Variable(2.0)"
   ]
  },
  {
   "cell_type": "code",
   "execution_count": 14,
   "id": "58647216",
   "metadata": {},
   "outputs": [],
   "source": [
    "B = tf.Variable(3.)"
   ]
  },
  {
   "cell_type": "code",
   "execution_count": 16,
   "id": "fb417c55",
   "metadata": {},
   "outputs": [],
   "source": [
    "with tf.GradientTape() as t1:\n",
    "    with tf.GradientTape() as t2:\n",
    "        Y = W*X+B\n",
    "    grad_W,grad_B = t2.gradient(Y,[W,B])\n",
    "grad_W_two = t1.gradient(grad_W,W)"
   ]
  },
  {
   "cell_type": "code",
   "execution_count": 20,
   "id": "c8f8f046",
   "metadata": {},
   "outputs": [
    {
     "name": "stdout",
     "output_type": "stream",
     "text": [
      "None\n"
     ]
    }
   ],
   "source": [
    "print(grad_W_two)"
   ]
  },
  {
   "cell_type": "code",
   "execution_count": 21,
   "id": "8fc6b18e",
   "metadata": {},
   "outputs": [],
   "source": [
    "# sigmoid函数梯度观察"
   ]
  },
  {
   "cell_type": "code",
   "execution_count": 22,
   "id": "88713b8f",
   "metadata": {},
   "outputs": [],
   "source": [
    "a = tf.linspace(-10,10,10)"
   ]
  },
  {
   "cell_type": "code",
   "execution_count": 23,
   "id": "8895f59c",
   "metadata": {},
   "outputs": [],
   "source": [
    "with tf.GradientTape() as tape:\n",
    "    tape.watch([a])\n",
    "    y = tf.sigmoid(a)\n",
    "grad = tape.gradient(y,[a])"
   ]
  },
  {
   "cell_type": "code",
   "execution_count": 24,
   "id": "b82778ce",
   "metadata": {},
   "outputs": [
    {
     "data": {
      "text/plain": [
       "(<tf.Tensor: shape=(10,), dtype=float64, numpy=\n",
       " array([-10.        ,  -7.77777778,  -5.55555556,  -3.33333333,\n",
       "         -1.11111111,   1.11111111,   3.33333333,   5.55555556,\n",
       "          7.77777778,  10.        ])>,\n",
       " <tf.Tensor: shape=(10,), dtype=float64, numpy=\n",
       " array([4.53978687e-05, 4.18766684e-04, 3.85103236e-03, 3.44451957e-02,\n",
       "        2.47663801e-01, 7.52336199e-01, 9.65554804e-01, 9.96148968e-01,\n",
       "        9.99581233e-01, 9.99954602e-01])>,\n",
       " [<tf.Tensor: shape=(10,), dtype=float64, numpy=\n",
       "  array([4.53958077e-05, 4.18591319e-04, 3.83620191e-03, 3.32587242e-02,\n",
       "         1.86326443e-01, 1.86326443e-01, 3.32587242e-02, 3.83620191e-03,\n",
       "         4.18591319e-04, 4.53958077e-05])>])"
      ]
     },
     "execution_count": 24,
     "metadata": {},
     "output_type": "execute_result"
    }
   ],
   "source": [
    "a,y,grad"
   ]
  },
  {
   "cell_type": "code",
   "execution_count": 2,
   "id": "92f7d7d9",
   "metadata": {},
   "outputs": [],
   "source": [
    "# 上述证明 越靠近无穷，则梯度越平滑也就是越接近0"
   ]
  },
  {
   "cell_type": "code",
   "execution_count": 1,
   "id": "a0d51cc9",
   "metadata": {},
   "outputs": [],
   "source": [
    "# tanh 函数介绍"
   ]
  },
  {
   "cell_type": "code",
   "execution_count": 4,
   "id": "74314fbd",
   "metadata": {},
   "outputs": [],
   "source": [
    "a = tf.linspace(-1,1,10)"
   ]
  },
  {
   "cell_type": "code",
   "execution_count": 5,
   "id": "3914134d",
   "metadata": {},
   "outputs": [],
   "source": [
    "y = tf.tanh(a)"
   ]
  },
  {
   "cell_type": "code",
   "execution_count": 6,
   "id": "2d7c4e75",
   "metadata": {},
   "outputs": [
    {
     "data": {
      "text/plain": [
       "<tf.Tensor: shape=(10,), dtype=float64, numpy=\n",
       "array([-0.76159416, -0.65142936, -0.5046724 , -0.32151274, -0.11065611,\n",
       "        0.11065611,  0.32151274,  0.5046724 ,  0.65142936,  0.76159416])>"
      ]
     },
     "execution_count": 6,
     "metadata": {},
     "output_type": "execute_result"
    }
   ],
   "source": [
    "y"
   ]
  },
  {
   "cell_type": "code",
   "execution_count": 7,
   "id": "fe9416ed",
   "metadata": {},
   "outputs": [],
   "source": [
    "#  relu函数介绍"
   ]
  },
  {
   "cell_type": "code",
   "execution_count": 9,
   "id": "61819a29",
   "metadata": {},
   "outputs": [
    {
     "data": {
      "text/plain": [
       "<tf.Tensor: shape=(10,), dtype=float64, numpy=\n",
       "array([0.        , 0.        , 0.        , 0.        , 0.        ,\n",
       "       0.11111111, 0.33333333, 0.55555556, 0.77777778, 1.        ])>"
      ]
     },
     "execution_count": 9,
     "metadata": {},
     "output_type": "execute_result"
    }
   ],
   "source": [
    "tf.nn.relu(a) # 显而易见"
   ]
  },
  {
   "cell_type": "code",
   "execution_count": null,
   "id": "9eec88da",
   "metadata": {},
   "outputs": [],
   "source": []
  }
 ],
 "metadata": {
  "kernelspec": {
   "display_name": "Python 3 (ipykernel)",
   "language": "python",
   "name": "python3"
  },
  "language_info": {
   "codemirror_mode": {
    "name": "ipython",
    "version": 3
   },
   "file_extension": ".py",
   "mimetype": "text/x-python",
   "name": "python",
   "nbconvert_exporter": "python",
   "pygments_lexer": "ipython3",
   "version": "3.9.12"
  }
 },
 "nbformat": 4,
 "nbformat_minor": 5
}
