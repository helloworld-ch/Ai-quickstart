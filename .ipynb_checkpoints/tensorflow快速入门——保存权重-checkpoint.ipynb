{
 "cells": [
  {
   "cell_type": "code",
   "execution_count": 1,
   "id": "14921b5d",
   "metadata": {},
   "outputs": [],
   "source": [
    "import tensorflow as tf\n",
    "from tensorflow import keras"
   ]
  },
  {
   "cell_type": "code",
   "execution_count": 2,
   "id": "fcbedb8d",
   "metadata": {},
   "outputs": [],
   "source": [
    "(x,y),(x_test,y_test) = keras.datasets.mnist.load_data()"
   ]
  },
  {
   "cell_type": "code",
   "execution_count": 3,
   "id": "8872f41b",
   "metadata": {},
   "outputs": [],
   "source": [
    "def proccess(x,y):\n",
    "    x = tf.convert_to_tensor(tf.cast(x,dtype=tf.float32))/255.\n",
    "    y = tf.convert_to_tensor(tf.cast(y,dtype=tf.int32))\n",
    "    x = tf.reshape(x,[28*28])\n",
    "    y = tf.one_hot(y,depth=10)\n",
    "    return x,y"
   ]
  },
  {
   "cell_type": "code",
   "execution_count": 4,
   "id": "0ea61c3f",
   "metadata": {},
   "outputs": [],
   "source": [
    "banchsize = 128"
   ]
  },
  {
   "cell_type": "code",
   "execution_count": 5,
   "id": "7c962afc",
   "metadata": {},
   "outputs": [],
   "source": [
    "train_db = tf.data.Dataset.from_tensor_slices((x,y)).map(proccess).shuffle(10000).batch(banchsize)\n",
    "test_db = tf.data.Dataset.from_tensor_slices((x,y)).map(proccess).batch(banchsize)"
   ]
  },
  {
   "cell_type": "code",
   "execution_count": 6,
   "id": "07d4e392",
   "metadata": {},
   "outputs": [],
   "source": [
    "network = tf.keras.Sequential([\n",
    "    tf.keras.layers.Dense(256,activation='relu'), # [b,784] =>[b,256]\n",
    "    tf.keras.layers.Dense(128,activation='relu'), # [b,256] =>[b,128]\n",
    "    tf.keras.layers.Dense(64,activation='relu'), # [b,128] =>[b,64]\n",
    "    tf.keras.layers.Dense(32,activation='relu'), # [b,64] =>[b,32]\n",
    "    tf.keras.layers.Dense(10), # [b,32] =>[b,10]\n",
    "])"
   ]
  },
  {
   "cell_type": "code",
   "execution_count": 7,
   "id": "15b119f6",
   "metadata": {},
   "outputs": [],
   "source": [
    "network.build(input_shape=[None,28*28])"
   ]
  },
  {
   "cell_type": "code",
   "execution_count": 8,
   "id": "4157c790",
   "metadata": {},
   "outputs": [
    {
     "name": "stdout",
     "output_type": "stream",
     "text": [
      "Model: \"sequential\"\n",
      "_________________________________________________________________\n",
      " Layer (type)                Output Shape              Param #   \n",
      "=================================================================\n",
      " dense (Dense)               (None, 256)               200960    \n",
      "                                                                 \n",
      " dense_1 (Dense)             (None, 128)               32896     \n",
      "                                                                 \n",
      " dense_2 (Dense)             (None, 64)                8256      \n",
      "                                                                 \n",
      " dense_3 (Dense)             (None, 32)                2080      \n",
      "                                                                 \n",
      " dense_4 (Dense)             (None, 10)                330       \n",
      "                                                                 \n",
      "=================================================================\n",
      "Total params: 244,522\n",
      "Trainable params: 244,522\n",
      "Non-trainable params: 0\n",
      "_________________________________________________________________\n"
     ]
    }
   ],
   "source": [
    "network.summary()"
   ]
  },
  {
   "cell_type": "code",
   "execution_count": 9,
   "id": "3bbdefb8",
   "metadata": {},
   "outputs": [],
   "source": [
    "network.compile(optimizer=tf.keras.optimizers.Adam(1e-3),\n",
    "               loss=tf.losses.CategoricalCrossentropy(from_logits=True),\n",
    "            metrics=['accuracy']) # metrics 置信度函数"
   ]
  },
  {
   "cell_type": "code",
   "execution_count": 10,
   "id": "074a1f05",
   "metadata": {},
   "outputs": [
    {
     "name": "stdout",
     "output_type": "stream",
     "text": [
      "Epoch 1/10\n",
      "469/469 [==============================] - 7s 10ms/step - loss: 0.3070 - accuracy: 0.9097\n",
      "Epoch 2/10\n",
      "469/469 [==============================] - 7s 14ms/step - loss: 0.1079 - accuracy: 0.9675 - val_loss: 0.0734 - val_accuracy: 0.9780\n",
      "Epoch 3/10\n",
      "469/469 [==============================] - 4s 9ms/step - loss: 0.0706 - accuracy: 0.9784\n",
      "Epoch 4/10\n",
      "469/469 [==============================] - 6s 12ms/step - loss: 0.0516 - accuracy: 0.9845 - val_loss: 0.0425 - val_accuracy: 0.9863\n",
      "Epoch 5/10\n",
      "469/469 [==============================] - 5s 9ms/step - loss: 0.0410 - accuracy: 0.9866\n",
      "Epoch 6/10\n",
      "469/469 [==============================] - 6s 13ms/step - loss: 0.0327 - accuracy: 0.9895 - val_loss: 0.0315 - val_accuracy: 0.9893\n",
      "Epoch 7/10\n",
      "469/469 [==============================] - 4s 8ms/step - loss: 0.0267 - accuracy: 0.9913\n",
      "Epoch 8/10\n",
      "469/469 [==============================] - 6s 13ms/step - loss: 0.0239 - accuracy: 0.9917 - val_loss: 0.0176 - val_accuracy: 0.9944\n",
      "Epoch 9/10\n",
      "469/469 [==============================] - 5s 10ms/step - loss: 0.0208 - accuracy: 0.9929\n",
      "Epoch 10/10\n",
      "469/469 [==============================] - 7s 15ms/step - loss: 0.0174 - accuracy: 0.9944 - val_loss: 0.0197 - val_accuracy: 0.9933\n"
     ]
    },
    {
     "data": {
      "text/plain": [
       "<keras.callbacks.History at 0x1a378a867c0>"
      ]
     },
     "execution_count": 10,
     "metadata": {},
     "output_type": "execute_result"
    }
   ],
   "source": [
    "network.fit(train_db,epochs=10,validation_data=test_db,validation_freq=2)"
   ]
  },
  {
   "cell_type": "code",
   "execution_count": 11,
   "id": "2e442399",
   "metadata": {},
   "outputs": [
    {
     "name": "stdout",
     "output_type": "stream",
     "text": [
      "saved weights.\n"
     ]
    }
   ],
   "source": [
    "#save the weights\n",
    "network.save_weights('weights.ckpt')\n",
    "print('saved weights.')"
   ]
  },
  {
   "cell_type": "code",
   "execution_count": 12,
   "id": "6e4d4db0",
   "metadata": {},
   "outputs": [],
   "source": [
    "del network"
   ]
  },
  {
   "cell_type": "code",
   "execution_count": 13,
   "id": "cea91048",
   "metadata": {},
   "outputs": [],
   "source": [
    "network = tf.keras.Sequential([tf.keras.layers.Dense(256, activation='relu'),\n",
    "                     tf.keras.layers.Dense(128, activation='relu'),\n",
    "                     tf.keras.layers.Dense(64, activation='relu'),\n",
    "                     tf.keras.layers.Dense(32, activation='relu'),\n",
    "                     tf.keras.layers.Dense(10)])\n",
    "network.compile(optimizer=tf.keras.optimizers.Adam(0.01),\n",
    "        loss=tf.losses.CategoricalCrossentropy(from_logits=True),\n",
    "        metrics=['accuracy'])"
   ]
  },
  {
   "cell_type": "code",
   "execution_count": 14,
   "id": "5c8bdf94",
   "metadata": {},
   "outputs": [],
   "source": [
    "test_image = x_test[1]"
   ]
  },
  {
   "cell_type": "code",
   "execution_count": 15,
   "id": "5ce9e4ac",
   "metadata": {},
   "outputs": [
    {
     "data": {
      "text/plain": [
       "((10000, 28, 28), (28, 28))"
      ]
     },
     "execution_count": 15,
     "metadata": {},
     "output_type": "execute_result"
    }
   ],
   "source": [
    "x_test.shape,test_image.shape"
   ]
  },
  {
   "cell_type": "code",
   "execution_count": 16,
   "id": "a6d05705",
   "metadata": {},
   "outputs": [],
   "source": [
    "test_labels = y_test[1]"
   ]
  },
  {
   "cell_type": "code",
   "execution_count": 17,
   "id": "e6053571",
   "metadata": {},
   "outputs": [
    {
     "data": {
      "text/plain": [
       "((), (10000,))"
      ]
     },
     "execution_count": 17,
     "metadata": {},
     "output_type": "execute_result"
    }
   ],
   "source": [
    "test_labels.shape,y_test.shape"
   ]
  },
  {
   "cell_type": "code",
   "execution_count": 18,
   "id": "4efd8d11",
   "metadata": {},
   "outputs": [],
   "source": [
    "test_image = tf.convert_to_tensor(test_image)\n",
    "test_labels = tf.convert_to_tensor(test_labels)"
   ]
  },
  {
   "cell_type": "code",
   "execution_count": 19,
   "id": "6cb007ae",
   "metadata": {
    "scrolled": false
   },
   "outputs": [
    {
     "name": "stdout",
     "output_type": "stream",
     "text": [
      "loaded weights!\n"
     ]
    }
   ],
   "source": [
    "network.load_weights('weights.ckpt')#导入上一次保存的参数\n",
    "print('loaded weights!')"
   ]
  },
  {
   "cell_type": "code",
   "execution_count": 20,
   "id": "d8a11277",
   "metadata": {},
   "outputs": [
    {
     "name": "stdout",
     "output_type": "stream",
     "text": [
      "469/469 [==============================] - 4s 6ms/step - loss: 0.0197 - accuracy: 0.9933\n"
     ]
    },
    {
     "data": {
      "text/plain": [
       "[0.01967933401465416, 0.9933000206947327]"
      ]
     },
     "execution_count": 20,
     "metadata": {},
     "output_type": "execute_result"
    }
   ],
   "source": [
    "network.evaluate(test_db)  #测试网络"
   ]
  },
  {
   "cell_type": "code",
   "execution_count": 21,
   "id": "7594c570",
   "metadata": {},
   "outputs": [
    {
     "name": "stdout",
     "output_type": "stream",
     "text": [
      "saved total model.\n",
      "loaded model from file.\n"
     ]
    }
   ],
   "source": [
    "network.save('model.h5')  #保存\n",
    "print('saved total model.')\n",
    "del network  #删除网络结构\n",
    "\n",
    "print('loaded model from file.')\n",
    "network = tf.keras.models.load_model('model.h5', compile=False)   #导入保存的数据"
   ]
  },
  {
   "cell_type": "code",
   "execution_count": null,
   "id": "a1e63d32",
   "metadata": {},
   "outputs": [],
   "source": []
  }
 ],
 "metadata": {
  "kernelspec": {
   "display_name": "Python 3 (ipykernel)",
   "language": "python",
   "name": "python3"
  },
  "language_info": {
   "codemirror_mode": {
    "name": "ipython",
    "version": 3
   },
   "file_extension": ".py",
   "mimetype": "text/x-python",
   "name": "python",
   "nbconvert_exporter": "python",
   "pygments_lexer": "ipython3",
   "version": "3.9.12"
  }
 },
 "nbformat": 4,
 "nbformat_minor": 5
}
