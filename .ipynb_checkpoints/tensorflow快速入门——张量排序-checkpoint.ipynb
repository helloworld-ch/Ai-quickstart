{
 "cells": [
  {
   "cell_type": "code",
   "execution_count": 1,
   "id": "f20bcc44",
   "metadata": {},
   "outputs": [],
   "source": [
    "import tensorflow as tf"
   ]
  },
  {
   "cell_type": "code",
   "execution_count": 2,
   "id": "ed0c0e7c",
   "metadata": {},
   "outputs": [],
   "source": [
    "nums = tf.random.shuffle(tf.range(5))"
   ]
  },
  {
   "cell_type": "code",
   "execution_count": 3,
   "id": "e7a4065f",
   "metadata": {},
   "outputs": [
    {
     "data": {
      "text/plain": [
       "<tf.Tensor: shape=(5,), dtype=int32, numpy=array([1, 2, 3, 0, 4])>"
      ]
     },
     "execution_count": 3,
     "metadata": {},
     "output_type": "execute_result"
    }
   ],
   "source": [
    "nums"
   ]
  },
  {
   "cell_type": "code",
   "execution_count": 4,
   "id": "2eb01c71",
   "metadata": {},
   "outputs": [],
   "source": [
    "sort_nums = tf.sort(nums)"
   ]
  },
  {
   "cell_type": "code",
   "execution_count": 5,
   "id": "b49ad69e",
   "metadata": {},
   "outputs": [
    {
     "data": {
      "text/plain": [
       "<tf.Tensor: shape=(5,), dtype=int32, numpy=array([0, 1, 2, 3, 4])>"
      ]
     },
     "execution_count": 5,
     "metadata": {},
     "output_type": "execute_result"
    }
   ],
   "source": [
    "sort_nums"
   ]
  },
  {
   "cell_type": "code",
   "execution_count": 7,
   "id": "e02bf800",
   "metadata": {},
   "outputs": [],
   "source": [
    "sort_nums_desc = tf.sort(nums,direction='DESCENDING')"
   ]
  },
  {
   "cell_type": "code",
   "execution_count": 8,
   "id": "b3a6e439",
   "metadata": {},
   "outputs": [
    {
     "data": {
      "text/plain": [
       "<tf.Tensor: shape=(5,), dtype=int32, numpy=array([4, 3, 2, 1, 0])>"
      ]
     },
     "execution_count": 8,
     "metadata": {},
     "output_type": "execute_result"
    }
   ],
   "source": [
    "sort_nums_desc # 逆序排列"
   ]
  },
  {
   "cell_type": "code",
   "execution_count": 9,
   "id": "f1d1fe11",
   "metadata": {},
   "outputs": [],
   "source": [
    "sort_index = tf.argsort(nums)"
   ]
  },
  {
   "cell_type": "code",
   "execution_count": 10,
   "id": "fbe6f008",
   "metadata": {},
   "outputs": [
    {
     "data": {
      "text/plain": [
       "<tf.Tensor: shape=(5,), dtype=int32, numpy=array([3, 0, 1, 2, 4])>"
      ]
     },
     "execution_count": 10,
     "metadata": {},
     "output_type": "execute_result"
    }
   ],
   "source": [
    "sort_index # 升序排列时的对应下标"
   ]
  },
  {
   "cell_type": "code",
   "execution_count": 11,
   "id": "fcf9ea62",
   "metadata": {},
   "outputs": [],
   "source": [
    "a = tf.random.uniform([3,3],maxval=10,dtype='int32')"
   ]
  },
  {
   "cell_type": "code",
   "execution_count": 12,
   "id": "43b047b2",
   "metadata": {},
   "outputs": [
    {
     "data": {
      "text/plain": [
       "<tf.Tensor: shape=(3, 3), dtype=int32, numpy=\n",
       "array([[1, 6, 6],\n",
       "       [3, 4, 3],\n",
       "       [2, 6, 3]])>"
      ]
     },
     "execution_count": 12,
     "metadata": {},
     "output_type": "execute_result"
    }
   ],
   "source": [
    "a"
   ]
  },
  {
   "cell_type": "code",
   "execution_count": 17,
   "id": "7ac0da56",
   "metadata": {},
   "outputs": [],
   "source": [
    "sort_a = tf.sort(a,axis=1) # 表示在行方向上作升序排列"
   ]
  },
  {
   "cell_type": "code",
   "execution_count": 18,
   "id": "952f5da4",
   "metadata": {},
   "outputs": [
    {
     "data": {
      "text/plain": [
       "<tf.Tensor: shape=(3, 3), dtype=int32, numpy=\n",
       "array([[1, 6, 6],\n",
       "       [3, 3, 4],\n",
       "       [2, 3, 6]])>"
      ]
     },
     "execution_count": 18,
     "metadata": {},
     "output_type": "execute_result"
    }
   ],
   "source": [
    "sort_a"
   ]
  },
  {
   "cell_type": "code",
   "execution_count": 19,
   "id": "ac90bb8a",
   "metadata": {},
   "outputs": [],
   "source": [
    "# top_k操作"
   ]
  },
  {
   "cell_type": "code",
   "execution_count": 20,
   "id": "da2a9f5e",
   "metadata": {},
   "outputs": [],
   "source": [
    "a = tf.nn.top_k(a,k=2) # 得到前n个最大数以及他们的下标"
   ]
  },
  {
   "cell_type": "code",
   "execution_count": 21,
   "id": "e8a83b63",
   "metadata": {},
   "outputs": [
    {
     "data": {
      "text/plain": [
       "TopKV2(values=<tf.Tensor: shape=(3, 2), dtype=int32, numpy=\n",
       "array([[6, 6],\n",
       "       [4, 3],\n",
       "       [6, 3]])>, indices=<tf.Tensor: shape=(3, 2), dtype=int32, numpy=\n",
       "array([[1, 2],\n",
       "       [1, 0],\n",
       "       [1, 2]])>)"
      ]
     },
     "execution_count": 21,
     "metadata": {},
     "output_type": "execute_result"
    }
   ],
   "source": [
    "a"
   ]
  },
  {
   "cell_type": "code",
   "execution_count": 24,
   "id": "ef9ded72",
   "metadata": {},
   "outputs": [
    {
     "data": {
      "text/plain": [
       "<tf.Tensor: shape=(3, 2), dtype=int32, numpy=\n",
       "array([[1, 2],\n",
       "       [1, 0],\n",
       "       [1, 2]])>"
      ]
     },
     "execution_count": 24,
     "metadata": {},
     "output_type": "execute_result"
    }
   ],
   "source": [
    "a.indices # 下标"
   ]
  },
  {
   "cell_type": "code",
   "execution_count": 25,
   "id": "6914f16b",
   "metadata": {},
   "outputs": [
    {
     "data": {
      "text/plain": [
       "<tf.Tensor: shape=(3, 2), dtype=int32, numpy=\n",
       "array([[6, 6],\n",
       "       [4, 3],\n",
       "       [6, 3]])>"
      ]
     },
     "execution_count": 25,
     "metadata": {},
     "output_type": "execute_result"
    }
   ],
   "source": [
    "a.values # 前n个大的值"
   ]
  },
  {
   "cell_type": "code",
   "execution_count": 26,
   "id": "edb8cb5b",
   "metadata": {},
   "outputs": [],
   "source": [
    "# top_k accuracy操作"
   ]
  },
  {
   "cell_type": "code",
   "execution_count": 28,
   "id": "5a6ca459",
   "metadata": {},
   "outputs": [],
   "source": [
    "def accuracy(output,target,top_k = (1,)):\n",
    "    '''\n",
    "    output 预测值 [B,N]\n",
    "    target 实际值 [B]\n",
    "    top_k = 选取多少的容错率\n",
    "    '''\n",
    "    maxk = max(top_k)\n",
    "    banch_size = target.shape[0]\n",
    "    \n",
    "    pred = tf.math.top_k(output,maxk).indices # 预测值前几的下标\n",
    "    pred = tf.transpose(pred,perm=[1,0]) # 转置\n",
    "    target_ = tf.broadcast_to(target,pred.shape) # 目标值扩增\n",
    "    correct = tf.cast(tf.equal(target_,pred),dtype='float32') # 损失值\n",
    "    \n",
    "    res = []\n",
    "    for k in top_k:\n",
    "        correct_k = tf.reshape(correct[:k],[-1]) # 转置变形\n",
    "        correct_k = tf.reduce_sum(correct_k) # 计算总和\n",
    "        acc = correct_k/banch_size # 计算不同k时的预测率\n",
    "        res.append(acc) # 下标为K的多少，acc为该K下的预测率\n",
    "    return res"
   ]
  },
  {
   "cell_type": "code",
   "execution_count": 29,
   "id": "825009f4",
   "metadata": {},
   "outputs": [],
   "source": [
    "# 测试"
   ]
  },
  {
   "cell_type": "code",
   "execution_count": 30,
   "id": "71268732",
   "metadata": {},
   "outputs": [],
   "source": [
    "output = tf.random.normal([10,6]) # 10个数据集六类 \n",
    "output = tf.math.softmax(output,axis=1) # 使数据在行上面总和为1\n",
    "target = tf.random.uniform([10],maxval=6,dtype='int32') # 实际值"
   ]
  },
  {
   "cell_type": "code",
   "execution_count": 31,
   "id": "a042d2c6",
   "metadata": {},
   "outputs": [
    {
     "data": {
      "text/plain": [
       "<tf.Tensor: shape=(10, 6), dtype=float32, numpy=\n",
       "array([[0.1049338 , 0.23042232, 0.08390649, 0.34383217, 0.1475183 ,\n",
       "        0.08938698],\n",
       "       [0.04059754, 0.4173271 , 0.19048667, 0.10971481, 0.05885441,\n",
       "        0.18301943],\n",
       "       [0.51128125, 0.07474133, 0.06501567, 0.23634808, 0.07611562,\n",
       "        0.03649811],\n",
       "       [0.3057228 , 0.3913571 , 0.02825491, 0.15120953, 0.05588211,\n",
       "        0.06757355],\n",
       "       [0.09471017, 0.07560135, 0.6279899 , 0.05568954, 0.10929915,\n",
       "        0.03670989],\n",
       "       [0.01265294, 0.04774377, 0.1481491 , 0.31631544, 0.00610872,\n",
       "        0.46903005],\n",
       "       [0.02690466, 0.1267069 , 0.23347229, 0.15063033, 0.0761433 ,\n",
       "        0.38614255],\n",
       "       [0.0620532 , 0.17346114, 0.05251699, 0.1421211 , 0.29702148,\n",
       "        0.27282608],\n",
       "       [0.15273437, 0.0423807 , 0.16470389, 0.3476237 , 0.12361732,\n",
       "        0.16893993],\n",
       "       [0.02684665, 0.19015622, 0.05673401, 0.14258605, 0.28215685,\n",
       "        0.30152023]], dtype=float32)>"
      ]
     },
     "execution_count": 31,
     "metadata": {},
     "output_type": "execute_result"
    }
   ],
   "source": [
    "output"
   ]
  },
  {
   "cell_type": "code",
   "execution_count": 32,
   "id": "ac9c5fe4",
   "metadata": {},
   "outputs": [
    {
     "data": {
      "text/plain": [
       "<tf.Tensor: shape=(10,), dtype=int32, numpy=array([0, 5, 4, 0, 2, 5, 3, 3, 3, 4])>"
      ]
     },
     "execution_count": 32,
     "metadata": {},
     "output_type": "execute_result"
    }
   ],
   "source": [
    "target"
   ]
  },
  {
   "cell_type": "code",
   "execution_count": 33,
   "id": "f6f197c4",
   "metadata": {},
   "outputs": [],
   "source": [
    "# 最大化预测值"
   ]
  },
  {
   "cell_type": "code",
   "execution_count": 34,
   "id": "56512092",
   "metadata": {},
   "outputs": [],
   "source": [
    "pred = tf.argmax(output,axis=1)"
   ]
  },
  {
   "cell_type": "code",
   "execution_count": 35,
   "id": "4ed1c1f1",
   "metadata": {},
   "outputs": [
    {
     "data": {
      "text/plain": [
       "<tf.Tensor: shape=(10,), dtype=int64, numpy=array([3, 1, 0, 1, 2, 5, 5, 4, 3, 5], dtype=int64)>"
      ]
     },
     "execution_count": 35,
     "metadata": {},
     "output_type": "execute_result"
    }
   ],
   "source": [
    "pred"
   ]
  },
  {
   "cell_type": "code",
   "execution_count": 36,
   "id": "e3d33c9e",
   "metadata": {},
   "outputs": [],
   "source": [
    "# top_k 预测"
   ]
  },
  {
   "cell_type": "code",
   "execution_count": 37,
   "id": "2be38d48",
   "metadata": {},
   "outputs": [],
   "source": [
    "res = accuracy(output,target,top_k=(1,2,3,4,5,6))"
   ]
  },
  {
   "cell_type": "code",
   "execution_count": 42,
   "id": "fd696433",
   "metadata": {},
   "outputs": [
    {
     "data": {
      "text/plain": [
       "[<tf.Tensor: shape=(), dtype=float32, numpy=0.3>,\n",
       " <tf.Tensor: shape=(), dtype=float32, numpy=0.5>,\n",
       " <tf.Tensor: shape=(), dtype=float32, numpy=0.8>,\n",
       " <tf.Tensor: shape=(), dtype=float32, numpy=1.0>,\n",
       " <tf.Tensor: shape=(), dtype=float32, numpy=1.0>,\n",
       " <tf.Tensor: shape=(), dtype=float32, numpy=1.0>]"
      ]
     },
     "execution_count": 42,
     "metadata": {},
     "output_type": "execute_result"
    }
   ],
   "source": [
    "res"
   ]
  },
  {
   "cell_type": "code",
   "execution_count": null,
   "id": "30ee6d0d",
   "metadata": {},
   "outputs": [],
   "source": []
  }
 ],
 "metadata": {
  "kernelspec": {
   "display_name": "Python 3 (ipykernel)",
   "language": "python",
   "name": "python3"
  },
  "language_info": {
   "codemirror_mode": {
    "name": "ipython",
    "version": 3
   },
   "file_extension": ".py",
   "mimetype": "text/x-python",
   "name": "python",
   "nbconvert_exporter": "python",
   "pygments_lexer": "ipython3",
   "version": "3.9.12"
  }
 },
 "nbformat": 4,
 "nbformat_minor": 5
}
