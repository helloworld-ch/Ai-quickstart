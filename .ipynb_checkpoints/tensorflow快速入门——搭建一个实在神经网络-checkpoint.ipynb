{
 "cells": [
  {
   "cell_type": "code",
   "execution_count": 1,
   "id": "7f9a836f",
   "metadata": {},
   "outputs": [],
   "source": [
    "import tensorflow as tf"
   ]
  },
  {
   "cell_type": "code",
   "execution_count": 2,
   "id": "3b009369",
   "metadata": {},
   "outputs": [],
   "source": [
    "# 导入数据集"
   ]
  },
  {
   "cell_type": "code",
   "execution_count": 3,
   "id": "db8a9132",
   "metadata": {},
   "outputs": [],
   "source": [
    "(x,y),_ = tf.keras.datasets.mnist.load_data()"
   ]
  },
  {
   "cell_type": "code",
   "execution_count": 4,
   "id": "0cb12bb1",
   "metadata": {},
   "outputs": [],
   "source": [
    "# 数据预处理"
   ]
  },
  {
   "cell_type": "code",
   "execution_count": 5,
   "id": "c741f4df",
   "metadata": {},
   "outputs": [],
   "source": [
    "x = tf.convert_to_tensor(x,dtype=tf.float32)/255 # 关于图像的rgb范围缩放到0~1之间"
   ]
  },
  {
   "cell_type": "code",
   "execution_count": 6,
   "id": "1eb7946a",
   "metadata": {},
   "outputs": [],
   "source": [
    "y = tf.convert_to_tensor(y,dtype = tf.int32)"
   ]
  },
  {
   "cell_type": "code",
   "execution_count": 7,
   "id": "2de9b678",
   "metadata": {},
   "outputs": [],
   "source": [
    "train_db = tf.data.Dataset.from_tensor_slices((x,y)).batch(128)"
   ]
  },
  {
   "cell_type": "code",
   "execution_count": 8,
   "id": "15b5dd13",
   "metadata": {},
   "outputs": [],
   "source": [
    "train_iter = iter(train_db)"
   ]
  },
  {
   "cell_type": "code",
   "execution_count": 9,
   "id": "463b2ace",
   "metadata": {},
   "outputs": [],
   "source": [
    "sample = next(train_iter)"
   ]
  },
  {
   "cell_type": "code",
   "execution_count": 10,
   "id": "9433b909",
   "metadata": {},
   "outputs": [],
   "source": [
    "# 设置参数"
   ]
  },
  {
   "cell_type": "code",
   "execution_count": 11,
   "id": "2a56b4c2",
   "metadata": {},
   "outputs": [],
   "source": [
    "# 维度变换为【b,28*28】=>[b,256] =>[b,128] =>[b,10] # 这是是分十类，所以最后是十"
   ]
  },
  {
   "cell_type": "code",
   "execution_count": 12,
   "id": "5fefcd4d",
   "metadata": {},
   "outputs": [],
   "source": [
    "W1 = tf.Variable(tf.random.truncated_normal([784,256],stddev=0.1))\n",
    "b1 = tf.Variable(tf.zeros([256]))\n",
    "W2 = tf.Variable(tf.random.truncated_normal([256,128],stddev=0.1))\n",
    "b2 = tf.Variable(tf.zeros([128]))\n",
    "W3 = tf.Variable(tf.random.truncated_normal([128,10],stddev=0.1))\n",
    "b3 = tf.Variable(tf.zeros([10]))\n",
    "a = 1e-3"
   ]
  },
  {
   "cell_type": "code",
   "execution_count": 13,
   "id": "31a00a9d",
   "metadata": {},
   "outputs": [],
   "source": [
    "# 设置求导监测"
   ]
  },
  {
   "cell_type": "code",
   "execution_count": 14,
   "id": "98e4225c",
   "metadata": {},
   "outputs": [
    {
     "name": "stdout",
     "output_type": "stream",
     "text": [
      "0 loss: tf.Tensor(272630.78, shape=(), dtype=float32)\n",
      "100 loss: tf.Tensor(nan, shape=(), dtype=float32)\n",
      "200 loss: tf.Tensor(nan, shape=(), dtype=float32)\n",
      "300 loss: tf.Tensor(nan, shape=(), dtype=float32)\n",
      "400 loss: tf.Tensor(nan, shape=(), dtype=float32)\n"
     ]
    }
   ],
   "source": [
    "for step,(x,y) in enumerate(train_db):\n",
    "    # 维度变换 输入的是【128，28，28】 =>【128，28*28】\n",
    "    x = tf.reshape(x,[-1,28*28])\n",
    "    # 检测求导\n",
    "    with tf.GradientTape() as tape:\n",
    "        tape.watch([W1,b1,W2,b2,W3,b3])\n",
    "        h1 = tf.nn.relu(x@W1+b1)\n",
    "        h2 = tf.nn.relu(h1@W2+b2)\n",
    "        out = h2@W3+b3\n",
    "        \n",
    "        #实际值预处理\n",
    "        y_hot = tf.one_hot(y,depth=10)\n",
    "        # 设置损失函数\n",
    "        loss = tf.reduce_mean(tf.square(y_hot-out))\n",
    "    # 得到梯度\n",
    "    grads = tape.gradient(loss,[W1,b1,W2,b2,W3,b3])\n",
    "    \n",
    "    # 参数更新\n",
    "    W1.assign_sub(a*grads[0])\n",
    "    b1.assign_sub(a*grads[1])\n",
    "    W2.assign_sub(a*grads[2])\n",
    "    b2.assign_sub(a*grads[3])\n",
    "    W3.assign_sub(a*grads[4])\n",
    "    b3.assign_sub(a*grads[5])\n",
    "    \n",
    "    # 打印数据\n",
    "    if step%100 == 0:\n",
    "        print(step,\"loss:\",loss)\n",
    "        "
   ]
  },
  {
   "cell_type": "code",
   "execution_count": null,
   "id": "727c4172",
   "metadata": {},
   "outputs": [],
   "source": []
  }
 ],
 "metadata": {
  "kernelspec": {
   "display_name": "Python 3 (ipykernel)",
   "language": "python",
   "name": "python3"
  },
  "language_info": {
   "codemirror_mode": {
    "name": "ipython",
    "version": 3
   },
   "file_extension": ".py",
   "mimetype": "text/x-python",
   "name": "python",
   "nbconvert_exporter": "python",
   "pygments_lexer": "ipython3",
   "version": "3.9.12"
  }
 },
 "nbformat": 4,
 "nbformat_minor": 5
}
