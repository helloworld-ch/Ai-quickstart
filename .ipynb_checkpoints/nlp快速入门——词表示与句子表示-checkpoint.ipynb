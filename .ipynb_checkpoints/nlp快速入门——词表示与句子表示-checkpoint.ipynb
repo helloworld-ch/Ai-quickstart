{
 "cells": [
  {
   "cell_type": "code",
   "execution_count": 1,
   "id": "dc047c02",
   "metadata": {},
   "outputs": [],
   "source": [
    "import numpy as np\n",
    "import jieba"
   ]
  },
  {
   "cell_type": "code",
   "execution_count": 2,
   "id": "2aebf5d4",
   "metadata": {},
   "outputs": [],
   "source": [
    "# 词表示方法 one_Hot方法"
   ]
  },
  {
   "cell_type": "code",
   "execution_count": 3,
   "id": "ed562ca3",
   "metadata": {},
   "outputs": [],
   "source": [
    "# 设置词典为"
   ]
  },
  {
   "cell_type": "code",
   "execution_count": 4,
   "id": "ab1acdab",
   "metadata": {},
   "outputs": [],
   "source": [
    "words_db = [\"我们\",\"又\",\"爬山\",\"跑步\",\"去\",\"一起\",\"今天\",\"昨天\"]"
   ]
  },
  {
   "cell_type": "code",
   "execution_count": 5,
   "id": "341d6ae1",
   "metadata": {},
   "outputs": [],
   "source": [
    "# 词"
   ]
  },
  {
   "cell_type": "code",
   "execution_count": 6,
   "id": "8c49ff99",
   "metadata": {},
   "outputs": [],
   "source": [
    "word_one = \"我们\""
   ]
  },
  {
   "cell_type": "code",
   "execution_count": 7,
   "id": "9dcdf70a",
   "metadata": {},
   "outputs": [],
   "source": [
    "def getWord_vec(word,words_db):\n",
    "    # 用一个词典长度的向量来表示这个词\n",
    "    word_vec = np.zeros(len(words_db),dtype = \"int32\")\n",
    "    for i in range(len(words_db)):\n",
    "        if words_db[i] == word:\n",
    "            word_vec[i] = 1\n",
    "    return word_vec"
   ]
  },
  {
   "cell_type": "code",
   "execution_count": 8,
   "id": "58ccf7c6",
   "metadata": {},
   "outputs": [
    {
     "data": {
      "text/plain": [
       "array([1, 0, 0, 0, 0, 0, 0, 0])"
      ]
     },
     "execution_count": 8,
     "metadata": {},
     "output_type": "execute_result"
    }
   ],
   "source": [
    "getWord_vec(word_one,words_db)"
   ]
  },
  {
   "cell_type": "code",
   "execution_count": 9,
   "id": "7be0ab22",
   "metadata": {},
   "outputs": [],
   "source": [
    "# 句子表示"
   ]
  },
  {
   "cell_type": "code",
   "execution_count": 10,
   "id": "ed3ff9a8",
   "metadata": {},
   "outputs": [],
   "source": [
    "sentence = \"我们今天去爬山\""
   ]
  },
  {
   "cell_type": "code",
   "execution_count": 11,
   "id": "bb23ac50",
   "metadata": {},
   "outputs": [
    {
     "name": "stderr",
     "output_type": "stream",
     "text": [
      "Building prefix dict from the default dictionary ...\n",
      "Loading model from cache C:\\Users\\Lenovo\\AppData\\Local\\Temp\\jieba.cache\n",
      "Loading model cost 0.766 seconds.\n",
      "Prefix dict has been built successfully.\n"
     ]
    }
   ],
   "source": [
    "sentence_array = list(jieba.cut(sentence,cut_all=False))"
   ]
  },
  {
   "cell_type": "code",
   "execution_count": 12,
   "id": "dc33bd50",
   "metadata": {},
   "outputs": [
    {
     "name": "stdout",
     "output_type": "stream",
     "text": [
      "我们/今天/去/爬山\n"
     ]
    }
   ],
   "source": [
    "print(\"/\".join(sentence_array))"
   ]
  },
  {
   "cell_type": "code",
   "execution_count": 13,
   "id": "cb6239bd",
   "metadata": {},
   "outputs": [],
   "source": [
    "# boolean方法"
   ]
  },
  {
   "cell_type": "code",
   "execution_count": 14,
   "id": "d68c80bc",
   "metadata": {},
   "outputs": [],
   "source": [
    "def getSentence_vec(sentence_array,words_db):\n",
    "    # 用一个词典长度的向量来表示这个句子\n",
    "    word_vec = np.zeros(len(words_db),dtype = \"int32\")\n",
    "    for i in range(len(sentence_array)):\n",
    "        for j in range(len(words_db)):\n",
    "            if words_db[j] == sentence_array[i]:\n",
    "                word_vec[j] = 1\n",
    "                break\n",
    "            \n",
    "    return word_vec"
   ]
  },
  {
   "cell_type": "code",
   "execution_count": 15,
   "id": "e46e84a6",
   "metadata": {},
   "outputs": [
    {
     "data": {
      "text/plain": [
       "array([1, 0, 1, 0, 1, 0, 1, 0])"
      ]
     },
     "execution_count": 15,
     "metadata": {},
     "output_type": "execute_result"
    }
   ],
   "source": [
    "getSentence_vec(sentence_array,words_db)"
   ]
  },
  {
   "cell_type": "code",
   "execution_count": 16,
   "id": "60cef281",
   "metadata": {},
   "outputs": [],
   "source": [
    "# count_boolean 方法表示句子"
   ]
  },
  {
   "cell_type": "code",
   "execution_count": 19,
   "id": "34b0ad74",
   "metadata": {},
   "outputs": [],
   "source": [
    "sentence = \"我们今天又去爬山又去跑步\""
   ]
  },
  {
   "cell_type": "code",
   "execution_count": 20,
   "id": "603d7132",
   "metadata": {},
   "outputs": [
    {
     "name": "stdout",
     "output_type": "stream",
     "text": [
      "我们/今天/又/去/爬山/又/去/跑步\n"
     ]
    }
   ],
   "source": [
    "sentence_array = list(jieba.cut(sentence,cut_all=False))\n",
    "print(\"/\".join(sentence_array))"
   ]
  },
  {
   "cell_type": "code",
   "execution_count": 21,
   "id": "eb7ed61a",
   "metadata": {},
   "outputs": [],
   "source": [
    "def getSentence_vec_count(sentence_array,words_db):\n",
    "        # 用一个词典长度的向量来表示这个句子\n",
    "    word_vec = np.zeros(len(words_db),dtype = \"int32\")\n",
    "    for i in range(len(sentence_array)):\n",
    "        for j in range(len(words_db)):\n",
    "            if words_db[j] == sentence_array[i]:\n",
    "                word_vec[j] += 1\n",
    "                break\n",
    "            \n",
    "    return word_vec"
   ]
  },
  {
   "cell_type": "code",
   "execution_count": 22,
   "id": "8c457cca",
   "metadata": {},
   "outputs": [
    {
     "data": {
      "text/plain": [
       "array([1, 2, 1, 1, 2, 0, 1, 0])"
      ]
     },
     "execution_count": 22,
     "metadata": {},
     "output_type": "execute_result"
    }
   ],
   "source": [
    "getSentence_vec_count(sentence_array,words_db)"
   ]
  },
  {
   "cell_type": "code",
   "execution_count": null,
   "id": "3ae8ec32",
   "metadata": {},
   "outputs": [],
   "source": []
  }
 ],
 "metadata": {
  "kernelspec": {
   "display_name": "Python 3",
   "language": "python",
   "name": "python3"
  },
  "language_info": {
   "codemirror_mode": {
    "name": "ipython",
    "version": 3
   },
   "file_extension": ".py",
   "mimetype": "text/x-python",
   "name": "python",
   "nbconvert_exporter": "python",
   "pygments_lexer": "ipython3",
   "version": "3.8.8"
  }
 },
 "nbformat": 4,
 "nbformat_minor": 5
}
