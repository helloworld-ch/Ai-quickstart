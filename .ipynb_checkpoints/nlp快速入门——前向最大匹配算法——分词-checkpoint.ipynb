{
 "cells": [
  {
   "cell_type": "code",
   "execution_count": 1,
   "id": "2433d690",
   "metadata": {},
   "outputs": [],
   "source": [
    "# 设置字典"
   ]
  },
  {
   "cell_type": "code",
   "execution_count": 2,
   "id": "beb521a8",
   "metadata": {},
   "outputs": [],
   "source": [
    "dict_list = [\"我们\",\"经常\",\"有\",\"有意见\",\"意见\",\"分歧\"] # 制作对比词典"
   ]
  },
  {
   "cell_type": "code",
   "execution_count": 15,
   "id": "8fdc955d",
   "metadata": {},
   "outputs": [],
   "source": [
    "demo = \"我们经常有意见分歧\""
   ]
  },
  {
   "cell_type": "code",
   "execution_count": 4,
   "id": "0195340e",
   "metadata": {},
   "outputs": [],
   "source": [
    "# 获取滑动窗口大小"
   ]
  },
  {
   "cell_type": "code",
   "execution_count": 5,
   "id": "fb3ef839",
   "metadata": {},
   "outputs": [],
   "source": [
    "def getMaxNum(dict_list):\n",
    "    max = -1\n",
    "    for i in dict_list:\n",
    "        if(len(i)>max):\n",
    "            max = len(i)\n",
    "    return max"
   ]
  },
  {
   "cell_type": "code",
   "execution_count": 6,
   "id": "c45eaa03",
   "metadata": {},
   "outputs": [
    {
     "data": {
      "text/plain": [
       "3"
      ]
     },
     "execution_count": 6,
     "metadata": {},
     "output_type": "execute_result"
    }
   ],
   "source": [
    "getMaxNum(dict_list)"
   ]
  },
  {
   "cell_type": "code",
   "execution_count": 7,
   "id": "51f48582",
   "metadata": {},
   "outputs": [],
   "source": [
    "# 前向分词算法"
   ]
  },
  {
   "cell_type": "code",
   "execution_count": 11,
   "id": "9b6af365",
   "metadata": {},
   "outputs": [],
   "source": [
    "def split_word(demo,dict_list):\n",
    "    num = getMaxNum(dict_list)\n",
    "    result = []\n",
    "    while(len(demo)>0):\n",
    "        maxNum = num+1\n",
    "        if(maxNum>len(demo)):\n",
    "            maxNum = len(demo)\n",
    "        for i in range(len(demo)):\n",
    "            if demo[:maxNum] in dict_list:\n",
    "                result.append(demo[:maxNum])\n",
    "                demo = demo[maxNum:]\n",
    "                break\n",
    "            else:\n",
    "                maxNum-=1\n",
    "    print(result)"
   ]
  },
  {
   "cell_type": "code",
   "execution_count": 16,
   "id": "d8e466af",
   "metadata": {},
   "outputs": [
    {
     "name": "stdout",
     "output_type": "stream",
     "text": [
      "['我们', '经常', '有意见', '分歧']\n"
     ]
    }
   ],
   "source": [
    "split_word(demo,dict_list)"
   ]
  },
  {
   "cell_type": "code",
   "execution_count": 17,
   "id": "3adfa93e",
   "metadata": {},
   "outputs": [],
   "source": [
    "# 还有一个最大后向匹配，与这个前向匹配差不多，只是从后面往前匹配"
   ]
  },
  {
   "cell_type": "code",
   "execution_count": null,
   "id": "604841d9",
   "metadata": {},
   "outputs": [],
   "source": [
    "# 统称为最大匹配"
   ]
  }
 ],
 "metadata": {
  "kernelspec": {
   "display_name": "Python 3",
   "language": "python",
   "name": "python3"
  },
  "language_info": {
   "codemirror_mode": {
    "name": "ipython",
    "version": 3
   },
   "file_extension": ".py",
   "mimetype": "text/x-python",
   "name": "python",
   "nbconvert_exporter": "python",
   "pygments_lexer": "ipython3",
   "version": "3.8.8"
  }
 },
 "nbformat": 4,
 "nbformat_minor": 5
}
