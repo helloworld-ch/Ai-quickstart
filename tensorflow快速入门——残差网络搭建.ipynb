{
 "cells": [
  {
   "cell_type": "code",
   "execution_count": 1,
   "id": "6231a688",
   "metadata": {},
   "outputs": [],
   "source": [
    "import tensorflow as tf"
   ]
  },
  {
   "cell_type": "markdown",
   "id": "aee35488",
   "metadata": {},
   "source": [
    "### 搭建残差网络"
   ]
  },
  {
   "cell_type": "markdown",
   "id": "d3dfe4fa",
   "metadata": {},
   "source": [
    "#### 搭建层"
   ]
  },
  {
   "cell_type": "code",
   "execution_count": 9,
   "id": "397c255e",
   "metadata": {},
   "outputs": [],
   "source": [
    "class RestNetLayer(tf.keras.layers.Layer):\n",
    "    def __init__(self,fitler_num,stride=1):\n",
    "        super(RestNetLayer,self).__init__()\n",
    "        self.Conv1 = tf.keras.layers.Conv2D(fitler_num,(3,3),strides=stride,padding=\"same\")\n",
    "        self.Bn1 = tf.keras.layers.BatchNormalization()\n",
    "        self.relu = tf.keras.layers.Activation('relu')\n",
    "        \n",
    "        self.Conv2 = tf.keras.layers.Conv2D(fitler_num,(3,3),strides=1,padding=\"same\")\n",
    "        self.Bn2 = tf.keras.layers.BatchNormalization()\n",
    "        \n",
    "        # 残差层\n",
    "        if stride != 1:\n",
    "            self.downSample = tf.keras.Sequential()\n",
    "            self.downSample.add(tf.keras.layers.Conv2D(fitler_num,(1,1),strides = stride))\n",
    "        else:\n",
    "            self.downSample = lambda x:x\n",
    "    \n",
    "    def call(self,inputs,training = None):\n",
    "        \n",
    "        # [b ,h ,w ,c] # batch_size 大小的 h高度 w宽度 c通道的图片数据集\n",
    "        out = self.Conv1(inputs)\n",
    "        out = self.Bn1(out)\n",
    "        out = self.relu(out)\n",
    "        \n",
    "        out = self.Conv2(out)\n",
    "        out = self.Bn2(out)\n",
    "        \n",
    "        identity = self.downSample(inputs)\n",
    "        \n",
    "        output = tf.keras.layers.add([out,identity])\n",
    "        output = tf.nn.relu(output)\n",
    "        \n",
    "        return output"
   ]
  },
  {
   "cell_type": "markdown",
   "id": "e96dedd9",
   "metadata": {},
   "source": [
    "#### 搭建网络"
   ]
  },
  {
   "cell_type": "code",
   "execution_count": 10,
   "id": "0c0c5519",
   "metadata": {},
   "outputs": [],
   "source": [
    "class RestNetModel(tf.keras.models.Model):\n",
    "    def __init__(self,layer_dims,num_classser = 100): #卷积维度C chanels 和分类总数 \n",
    "        super(RestNetModel,self).__init__()\n",
    "        self.item = tf.keras.Sequential([\n",
    "            tf.keras.layers.Conv2D(64,kernel_size=(3,3),strides=(1,1)),\n",
    "            tf.keras.layers.BatchNormalization(),\n",
    "            tf.keras.layers.Activation(\"relu\"),\n",
    "            tf.keras.layers.MaxPool2D(pool_size=(2,2),strides=(1,1),padding=\"same\")\n",
    "        ]) # 预处理层\n",
    "        \n",
    "        self.unit1 = self.build_resblock(64,layer_dims[0])\n",
    "        self.unit2 = self.build_resblock(128,layer_dims[1],stride = 2)\n",
    "        self.unit3= self.build_resblock(256,layer_dims[2],stride = 2)\n",
    "        self.unit4= self.build_resblock(512,layer_dims[3],stride = 2)\n",
    "        \n",
    "        # 全连接层\n",
    "        # 先处理【B,C,H,W】\n",
    "        self.avgpool = tf.keras.layers.GlobalAvgPool2D()\n",
    "        self.fc = tf.keras.layers.Dense(num_classser) # 最后转换成100类\n",
    "        \n",
    "        \n",
    "    def call(self,inputs,training =None):\n",
    "        # 前向传播\n",
    "        # 【b,w,h,c】 =>[b,64.h.w]\n",
    "        x = self.item(inputs)\n",
    "        x = self.unit1(x)\n",
    "        x = self.unit2(x)\n",
    "        x = self.unit3(x)\n",
    "        x = self.unit4(x)\n",
    "        \n",
    "        # =>[b,c]\n",
    "        x = self.avgpool(x)\n",
    "        \n",
    "        # =>[b,100]\n",
    "        x = self.fc(x)\n",
    "        \n",
    "        return x\n",
    "    \n",
    "    def build_resblock(self,fitler_num,blocks,stride=1):\n",
    "        res_block = tf.keras.Sequential()\n",
    "        res_block.add(RestNetLayer(fitler_num,stride))\n",
    "        \n",
    "        for _ in range(1,blocks):\n",
    "            res_block.add(RestNetLayer(fitler_num,1))\n",
    "            \n",
    "        return res_block\n",
    "    \n",
    "def RestNet18():\n",
    "    return RestNetModel([2,2,2,2])"
   ]
  },
  {
   "cell_type": "code",
   "execution_count": 11,
   "id": "388532c5",
   "metadata": {},
   "outputs": [
    {
     "name": "stdout",
     "output_type": "stream",
     "text": [
      "(128, 32, 32, 3) (128, 1)\n"
     ]
    }
   ],
   "source": [
    "# 数据准备\n",
    "(x,y),(x_test,y_test) = tf.keras.datasets.cifar100.load_data()\n",
    "def preprocess(x,y):\n",
    "    x = tf.cast(x,tf.float32)/255.\n",
    "    y = tf.cast(y,tf.int32)\n",
    "    return x,y\n",
    "batchsize = 128\n",
    "train_db = tf.data.Dataset.from_tensor_slices((x,y))\n",
    "train_db = train_db.map(preprocess).shuffle(10000).batch(batchsize)\n",
    "test_db = tf.data.Dataset.from_tensor_slices((x_test,y_test))\n",
    "test_db = test_db.map(preprocess).batch(batchsize)\n",
    "\n",
    "sample = next(iter(train_db))\n",
    "print(sample[0].shape,sample[1].shape)"
   ]
  },
  {
   "cell_type": "markdown",
   "id": "d1bc6abd",
   "metadata": {},
   "source": [
    "### 训练神经网络"
   ]
  },
  {
   "cell_type": "code",
   "execution_count": 12,
   "id": "0d143e32",
   "metadata": {},
   "outputs": [],
   "source": [
    "# 模型搭建\n",
    "model = RestNet18()\n",
    "\n",
    "# 可以先加载文件在继续训练\n",
    "optimizer = tf.keras.optimizers.Adam(1e-3)"
   ]
  },
  {
   "cell_type": "code",
   "execution_count": 17,
   "id": "39d77e98",
   "metadata": {},
   "outputs": [],
   "source": [
    "def train(echops):\n",
    "    for echops in range(echops):\n",
    "        for step,(x,y) in enumerate(train_db):\n",
    "            # 维度变换\n",
    "            with tf.GradientTape() as tape:\n",
    "                # [b,h,w,c] =>[b,c_,h_,w_]\n",
    "                out = model(x)\n",
    "\n",
    "                # 损失函数\n",
    "                y = tf.reshape(y,[y.shape[0]])\n",
    "                y_hot = tf.one_hot(y,depth=100)\n",
    "\n",
    "                loss = tf.keras.losses.categorical_crossentropy(y_hot,out,from_logits=True)\n",
    "                loss = tf.reduce_mean(loss)\n",
    "\n",
    "            grads = tape.gradient(loss,model.trainable_variables)\n",
    "            # 优化器\n",
    "            optimizer.apply_gradients(zip(grads,model.trainable_variables))\n",
    "\n",
    "            if step % 10 == 0:\n",
    "                print(step)\n",
    "                print(\"loss:\",loss)\n",
    "            "
   ]
  },
  {
   "cell_type": "code",
   "execution_count": 18,
   "id": "50e35cc8",
   "metadata": {},
   "outputs": [
    {
     "name": "stdout",
     "output_type": "stream",
     "text": [
      "0\n",
      "loss: tf.Tensor(4.6140394, shape=(), dtype=float32)\n",
      "10\n",
      "loss: tf.Tensor(4.6096735, shape=(), dtype=float32)\n"
     ]
    },
    {
     "name": "stderr",
     "output_type": "stream",
     "text": [
      "\n",
      "KeyboardInterrupt\n",
      "\n"
     ]
    }
   ],
   "source": [
    "train(10)"
   ]
  },
  {
   "cell_type": "code",
   "execution_count": 19,
   "id": "4bf4ea48",
   "metadata": {},
   "outputs": [],
   "source": [
    "def test():\n",
    "    correct_num,total_num = 0,0\n",
    "    for _,(x,y) in enumerate(test_db):\n",
    "        logits = model(x)\n",
    "        prob = tf.nn.softmax(logits,axis=1)\n",
    "        pred = tf.argmax(prob,axis=1)\n",
    "        pred = tf.cast(pred,dtype=tf.int32)\n",
    "        \n",
    "        y = tf.reshape(y,[y.shape[0]])\n",
    "        correct = tf.cast(tf.equal(y,pred),dtype=tf.int32)\n",
    "        correct = tf.reduce_sum(correct)\n",
    "        \n",
    "        correct_num+=int(correct)\n",
    "        total_num+=x.shape[0]\n",
    "    acc = correct_num/total_num\n",
    "            "
   ]
  },
  {
   "cell_type": "code",
   "execution_count": null,
   "id": "36c5a9cf",
   "metadata": {},
   "outputs": [],
   "source": []
  }
 ],
 "metadata": {
  "kernelspec": {
   "display_name": "Python 3 (ipykernel)",
   "language": "python",
   "name": "python3"
  },
  "language_info": {
   "codemirror_mode": {
    "name": "ipython",
    "version": 3
   },
   "file_extension": ".py",
   "mimetype": "text/x-python",
   "name": "python",
   "nbconvert_exporter": "python",
   "pygments_lexer": "ipython3",
   "version": "3.9.12"
  }
 },
 "nbformat": 4,
 "nbformat_minor": 5
}
