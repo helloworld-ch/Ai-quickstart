{
 "cells": [
  {
   "cell_type": "code",
   "execution_count": 1,
   "id": "7e1d6c47",
   "metadata": {},
   "outputs": [],
   "source": [
    "import matplotlib.pyplot as plt\n",
    "import numpy as np\n",
    "import cv2\n",
    "%matplotlib inline\n",
    "\n",
    "def img_change_chanels(img):\n",
    "    return cv2.merge(cv2.split(img)[::-1])\n",
    "\n",
    "def show(img):\n",
    "    plt.imshow(img)\n",
    "    cv2.waitKey(0)\n",
    "    cv2.destroyAllWindows()\n",
    "    \n",
    "def show_sub(images,x,y):\n",
    "    for i in range(len(images)):\n",
    "        plt.subplot(x,y,i+1)\n",
    "        plt.imshow(images[i])\n",
    "    cv2.waitKey(0)\n",
    "    cv2.destroyAllWindows()\n",
    "    \n",
    "# 灰度图显示\n",
    "def gray_show(img,name = None):\n",
    "    if name is not None:\n",
    "        cv2.imshow(name,img)\n",
    "    else:\n",
    "        cv2.imshow(\"img\",img)\n",
    "    cv2.waitKey(0)\n",
    "    cv2.destroyAllWindows()"
   ]
  },
  {
   "cell_type": "markdown",
   "id": "44fc412f",
   "metadata": {},
   "source": [
    "### scharr 算子 计算等同于Sobel算子，改变了算子的数据而已\n",
    "#### G = Gx + Gy\n",
    "#### Gx = 【[-3,0,3],[-10,0,10],[-3,0,3]】\n",
    "#### Gy = 【[-3,-10,-3],[0,0,0],[3,10,3]】"
   ]
  },
  {
   "cell_type": "code",
   "execution_count": 2,
   "id": "21349e01",
   "metadata": {},
   "outputs": [],
   "source": [
    "dog = cv2.imread(\"./images/dog.3.jpg\")\n",
    "dog = cv2.cvtColor(dog,cv2.COLOR_BGR2GRAY)"
   ]
  },
  {
   "cell_type": "code",
   "execution_count": 4,
   "id": "c39aaf6d",
   "metadata": {},
   "outputs": [],
   "source": [
    "gray_show(dog)"
   ]
  },
  {
   "cell_type": "code",
   "execution_count": 7,
   "id": "64676217",
   "metadata": {},
   "outputs": [],
   "source": [
    "def getBound(img):\n",
    "    my_img_x = cv2.Scharr(img,cv2.CV_64F,1,0)\n",
    "    my_img_x = cv2.convertScaleAbs(my_img_x)\n",
    "    my_img_y = cv2.Scharr(img,cv2.CV_64F,0,1)\n",
    "    my_img_y = cv2.convertScaleAbs(my_img_y)\n",
    "    my_img = cv2.addWeighted(my_img_x,0.5,my_img_y,0.5,0)\n",
    "    return my_img"
   ]
  },
  {
   "cell_type": "code",
   "execution_count": 8,
   "id": "1e16e9e3",
   "metadata": {},
   "outputs": [],
   "source": [
    "img = getBound(dog) # scharr 对一些信息更敏感了"
   ]
  },
  {
   "cell_type": "code",
   "execution_count": 9,
   "id": "9c24f9d7",
   "metadata": {},
   "outputs": [],
   "source": [
    "gray_show(img)"
   ]
  },
  {
   "cell_type": "markdown",
   "id": "6d5a32f4",
   "metadata": {},
   "source": [
    "### 拉普拉斯算子 \n",
    "#### 主要求解一个二阶导的过程，也就是深层次梯度\n",
    "#### 【[0,1,0],[1,-4,1],[0,1,0]】"
   ]
  },
  {
   "cell_type": "code",
   "execution_count": 16,
   "id": "2ff35581",
   "metadata": {},
   "outputs": [],
   "source": [
    "def get_bound(img):\n",
    "    \"\"\"\n",
    "    通过拉普拉斯算子获取轮廓\n",
    "    \"\"\"\n",
    "    new_img = cv2.Laplacian(img,cv2.CV_64F)\n",
    "    new_img = cv2.convertScaleAbs(new_img)\n",
    "    return new_img"
   ]
  },
  {
   "cell_type": "code",
   "execution_count": 19,
   "id": "5711f17e",
   "metadata": {},
   "outputs": [],
   "source": [
    "new_img = get_bound(dog) # 深层次梯度在表层没有办法显示出来"
   ]
  },
  {
   "cell_type": "code",
   "execution_count": 20,
   "id": "8a4d8350",
   "metadata": {},
   "outputs": [],
   "source": [
    "gray_show(new_img)"
   ]
  },
  {
   "cell_type": "code",
   "execution_count": null,
   "id": "982edf8d",
   "metadata": {},
   "outputs": [],
   "source": []
  }
 ],
 "metadata": {
  "kernelspec": {
   "display_name": "Python 3",
   "language": "python",
   "name": "python3"
  },
  "language_info": {
   "codemirror_mode": {
    "name": "ipython",
    "version": 3
   },
   "file_extension": ".py",
   "mimetype": "text/x-python",
   "name": "python",
   "nbconvert_exporter": "python",
   "pygments_lexer": "ipython3",
   "version": "3.8.8"
  }
 },
 "nbformat": 4,
 "nbformat_minor": 5
}
