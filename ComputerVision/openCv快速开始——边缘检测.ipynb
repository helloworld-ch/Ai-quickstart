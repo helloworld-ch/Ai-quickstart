{
 "cells": [
  {
   "cell_type": "code",
   "execution_count": 1,
   "id": "2b9a3e01",
   "metadata": {},
   "outputs": [],
   "source": [
    "import matplotlib.pyplot as plt\n",
    "import numpy as np\n",
    "import cv2\n",
    "%matplotlib inline\n",
    "\n",
    "def img_change_chanels(img):\n",
    "    return cv2.merge(cv2.split(img)[::-1])\n",
    "\n",
    "def show(img):\n",
    "    plt.imshow(img)\n",
    "    cv2.waitKey(0)\n",
    "    cv2.destroyAllWindows()\n",
    "    \n",
    "def show_sub(images,x,y):\n",
    "    for i in range(len(images)):\n",
    "        plt.subplot(x,y,i+1)\n",
    "        plt.imshow(images[i])\n",
    "    cv2.waitKey(0)\n",
    "    cv2.destroyAllWindows()\n",
    "    \n",
    "# 灰度图显示\n",
    "def gray_show(img,name = None):\n",
    "    if name is not None:\n",
    "        cv2.imshow(name,img)\n",
    "    else:\n",
    "        cv2.imshow(\"img\",img)\n",
    "    cv2.waitKey(0)\n",
    "    cv2.destroyAllWindows()"
   ]
  },
  {
   "cell_type": "code",
   "execution_count": 2,
   "id": "b1b7d919",
   "metadata": {},
   "outputs": [],
   "source": [
    "dog = cv2.imread(\"./images/dog.2.jpg\")\n",
    "dog = cv2.cvtColor(dog,cv2.COLOR_BGR2GRAY)"
   ]
  },
  {
   "cell_type": "code",
   "execution_count": 3,
   "id": "ac11228c",
   "metadata": {},
   "outputs": [],
   "source": [
    "gray_show(dog)"
   ]
  },
  {
   "cell_type": "code",
   "execution_count": 4,
   "id": "1d714c20",
   "metadata": {},
   "outputs": [
    {
     "data": {
      "text/plain": [
       "(199, 187)"
      ]
     },
     "execution_count": 4,
     "metadata": {},
     "output_type": "execute_result"
    }
   ],
   "source": [
    "dog.shape"
   ]
  },
  {
   "cell_type": "code",
   "execution_count": 5,
   "id": "8dbd4163",
   "metadata": {},
   "outputs": [],
   "source": [
    "dog = cv2.resize(dog,(400,400))"
   ]
  },
  {
   "cell_type": "code",
   "execution_count": 6,
   "id": "01f63e2c",
   "metadata": {},
   "outputs": [],
   "source": [
    "gray_show(dog)"
   ]
  },
  {
   "cell_type": "markdown",
   "id": "cf0cd4bf",
   "metadata": {},
   "source": [
    "###  边缘检测 Canny\n",
    "#### 先用高斯滤波过滤\n",
    "#### 计算梯度和方向\n",
    "#### 非极大值抑制\n",
    "#### 双阈值处理\n",
    "##### 梯度小于min阈值的直接就定义为不是边界，反之，大于max阈值的就直接为边界，两者之间的看是否与边界连接，连接就是边界，否则就不是"
   ]
  },
  {
   "cell_type": "code",
   "execution_count": 13,
   "id": "a29caf7a",
   "metadata": {},
   "outputs": [],
   "source": [
    "# Canny(img,min,max)\n",
    "img1 = cv2.Canny(dog,50,100)\n",
    "img2 = cv2.Canny(dog,100,150)"
   ]
  },
  {
   "cell_type": "code",
   "execution_count": 14,
   "id": "68e578cb",
   "metadata": {},
   "outputs": [],
   "source": [
    "images = np.hstack([img1,img2])"
   ]
  },
  {
   "cell_type": "code",
   "execution_count": 15,
   "id": "eecec965",
   "metadata": {},
   "outputs": [],
   "source": [
    "gray_show(images)"
   ]
  },
  {
   "cell_type": "code",
   "execution_count": null,
   "id": "e2beb5c1",
   "metadata": {},
   "outputs": [],
   "source": []
  }
 ],
 "metadata": {
  "kernelspec": {
   "display_name": "Python 3",
   "language": "python",
   "name": "python3"
  },
  "language_info": {
   "codemirror_mode": {
    "name": "ipython",
    "version": 3
   },
   "file_extension": ".py",
   "mimetype": "text/x-python",
   "name": "python",
   "nbconvert_exporter": "python",
   "pygments_lexer": "ipython3",
   "version": "3.8.8"
  }
 },
 "nbformat": 4,
 "nbformat_minor": 5
}
