{
 "cells": [
  {
   "cell_type": "code",
   "execution_count": 1,
   "id": "50c09b80",
   "metadata": {},
   "outputs": [],
   "source": [
    "import tensorflow as tf"
   ]
  },
  {
   "cell_type": "code",
   "execution_count": 2,
   "id": "71478939",
   "metadata": {},
   "outputs": [],
   "source": [
    "# 直接使用线性模型"
   ]
  },
  {
   "cell_type": "code",
   "execution_count": 3,
   "id": "8722a5f6",
   "metadata": {},
   "outputs": [],
   "source": [
    "X = tf.ones([2,4])"
   ]
  },
  {
   "cell_type": "code",
   "execution_count": 4,
   "id": "16858f98",
   "metadata": {},
   "outputs": [],
   "source": [
    "W = tf.random.uniform([4,3],maxval=3,dtype=tf.float32)"
   ]
  },
  {
   "cell_type": "code",
   "execution_count": 13,
   "id": "4e4f403a",
   "metadata": {},
   "outputs": [],
   "source": [
    "b = tf.zeros([3])"
   ]
  },
  {
   "cell_type": "code",
   "execution_count": 8,
   "id": "06b791b4",
   "metadata": {},
   "outputs": [],
   "source": [
    "Y =tf.constant([2,0]) # 该样例集有3个分类，分别是0，1，2 有两个样例集，输入为4个特征"
   ]
  },
  {
   "cell_type": "code",
   "execution_count": null,
   "id": "e1d61169",
   "metadata": {},
   "outputs": [],
   "source": []
  },
  {
   "cell_type": "code",
   "execution_count": 14,
   "id": "68f7d156",
   "metadata": {},
   "outputs": [],
   "source": [
    "with tf.GradientTape() as tape:\n",
    "    tape.watch([W,b])\n",
    "    prod = tf.math.softmax(X@W+b,axis=1)\n",
    "    loss = tf.reduce_mean(tf.losses.MSE(tf.one_hot(Y,3),prod))\n",
    "grad = tape.gradient(loss,[W,b])"
   ]
  },
  {
   "cell_type": "code",
   "execution_count": 15,
   "id": "20a237e5",
   "metadata": {},
   "outputs": [
    {
     "data": {
      "text/plain": [
       "[<tf.Tensor: shape=(4, 3), dtype=float32, numpy=\n",
       " array([[ 0.02871578,  0.0005672 , -0.02928299],\n",
       "        [ 0.02871578,  0.0005672 , -0.02928299],\n",
       "        [ 0.02871578,  0.0005672 , -0.02928299],\n",
       "        [ 0.02871578,  0.0005672 , -0.02928299]], dtype=float32)>,\n",
       " <tf.Tensor: shape=(3,), dtype=float32, numpy=array([ 0.02871578,  0.0005672 , -0.02928299], dtype=float32)>]"
      ]
     },
     "execution_count": 15,
     "metadata": {},
     "output_type": "execute_result"
    }
   ],
   "source": [
    "grad"
   ]
  },
  {
   "cell_type": "code",
   "execution_count": null,
   "id": "e7beaf77",
   "metadata": {},
   "outputs": [],
   "source": []
  }
 ],
 "metadata": {
  "kernelspec": {
   "display_name": "Python 3 (ipykernel)",
   "language": "python",
   "name": "python3"
  },
  "language_info": {
   "codemirror_mode": {
    "name": "ipython",
    "version": 3
   },
   "file_extension": ".py",
   "mimetype": "text/x-python",
   "name": "python",
   "nbconvert_exporter": "python",
   "pygments_lexer": "ipython3",
   "version": "3.9.12"
  }
 },
 "nbformat": 4,
 "nbformat_minor": 5
}
