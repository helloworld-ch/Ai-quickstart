{
 "cells": [
  {
   "cell_type": "code",
   "execution_count": 1,
   "id": "be245881",
   "metadata": {},
   "outputs": [],
   "source": [
    "import tensorflow as tf"
   ]
  },
  {
   "cell_type": "code",
   "execution_count": 2,
   "id": "134492be",
   "metadata": {},
   "outputs": [],
   "source": [
    "# 数据维度扩张"
   ]
  },
  {
   "cell_type": "code",
   "execution_count": 3,
   "id": "0f8a4ecb",
   "metadata": {},
   "outputs": [],
   "source": [
    "a = tf.random.uniform([4,28,28,3],maxval=255,dtype='int32')"
   ]
  },
  {
   "cell_type": "code",
   "execution_count": 5,
   "id": "1a155556",
   "metadata": {},
   "outputs": [],
   "source": [
    "# 要在图片的外围加上两层"
   ]
  },
  {
   "cell_type": "code",
   "execution_count": 6,
   "id": "b2f3965f",
   "metadata": {},
   "outputs": [],
   "source": [
    "change_a = tf.pad(a,[[0,0],[2,2],[2,2],[0,0]])"
   ]
  },
  {
   "cell_type": "code",
   "execution_count": 7,
   "id": "93897cf3",
   "metadata": {},
   "outputs": [
    {
     "data": {
      "text/plain": [
       "TensorShape([4, 32, 32, 3])"
      ]
     },
     "execution_count": 7,
     "metadata": {},
     "output_type": "execute_result"
    }
   ],
   "source": [
    "change_a.shape # 也就是上面加2层，下面加2层 卷积大小就可以设置成5*5"
   ]
  },
  {
   "cell_type": "code",
   "execution_count": null,
   "id": "ff3ea63b",
   "metadata": {},
   "outputs": [],
   "source": []
  }
 ],
 "metadata": {
  "kernelspec": {
   "display_name": "Python 3 (ipykernel)",
   "language": "python",
   "name": "python3"
  },
  "language_info": {
   "codemirror_mode": {
    "name": "ipython",
    "version": 3
   },
   "file_extension": ".py",
   "mimetype": "text/x-python",
   "name": "python",
   "nbconvert_exporter": "python",
   "pygments_lexer": "ipython3",
   "version": "3.9.12"
  }
 },
 "nbformat": 4,
 "nbformat_minor": 5
}
