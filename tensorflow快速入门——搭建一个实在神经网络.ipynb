{
 "cells": [
  {
   "cell_type": "code",
   "execution_count": 1,
   "id": "ae3fc207",
   "metadata": {},
   "outputs": [],
   "source": [
    "import tensorflow as tf"
   ]
  },
  {
   "cell_type": "code",
   "execution_count": 2,
   "id": "8f97885c",
   "metadata": {},
   "outputs": [],
   "source": [
    "# 导入数据集"
   ]
  },
  {
   "cell_type": "code",
   "execution_count": 27,
   "id": "a3990b19",
   "metadata": {},
   "outputs": [],
   "source": [
    "(x,y),(x_test,y_test) = tf.keras.datasets.mnist.load_data()"
   ]
  },
  {
   "cell_type": "code",
   "execution_count": 4,
   "id": "cb9190ce",
   "metadata": {},
   "outputs": [],
   "source": [
    "# 数据预处理"
   ]
  },
  {
   "cell_type": "code",
   "execution_count": 5,
   "id": "2b0adb36",
   "metadata": {},
   "outputs": [],
   "source": [
    "x = tf.convert_to_tensor(x,dtype=tf.float32)/255 # 关于图像的rgb范围缩放到0~1之间"
   ]
  },
  {
   "cell_type": "code",
   "execution_count": 6,
   "id": "b72c5b78",
   "metadata": {},
   "outputs": [],
   "source": [
    "y = tf.convert_to_tensor(y,dtype = tf.int32)"
   ]
  },
  {
   "cell_type": "code",
   "execution_count": 7,
   "id": "78d6d769",
   "metadata": {},
   "outputs": [],
   "source": [
    "x_test = tf.convert_to_tensor(x_test,dtype=tf.float32)/255\n",
    "y_test = tf.convert_to_tensor(y_test,dtype=tf.int32)"
   ]
  },
  {
   "cell_type": "code",
   "execution_count": 8,
   "id": "4fe32173",
   "metadata": {},
   "outputs": [],
   "source": [
    "train_db = tf.data.Dataset.from_tensor_slices((x,y)).batch(128)"
   ]
  },
  {
   "cell_type": "code",
   "execution_count": 9,
   "id": "30868c05",
   "metadata": {},
   "outputs": [],
   "source": [
    "train_iter = iter(train_db)"
   ]
  },
  {
   "cell_type": "code",
   "execution_count": 10,
   "id": "9e20d693",
   "metadata": {},
   "outputs": [],
   "source": [
    "test_db = tf.data.Dataset.from_tensor_slices((x_test,y_test)).batch(128) # 测试数据"
   ]
  },
  {
   "cell_type": "code",
   "execution_count": 11,
   "id": "fccfdb96",
   "metadata": {},
   "outputs": [],
   "source": [
    "sample = next(train_iter)"
   ]
  },
  {
   "cell_type": "code",
   "execution_count": 12,
   "id": "1adf8d21",
   "metadata": {},
   "outputs": [],
   "source": [
    "# 设置参数"
   ]
  },
  {
   "cell_type": "code",
   "execution_count": 13,
   "id": "9a4fdaeb",
   "metadata": {},
   "outputs": [],
   "source": [
    "# 维度变换为【b,28*28】=>[b,256] =>[b,128] =>[b,10] # 这是是分十类，所以最后是十"
   ]
  },
  {
   "cell_type": "code",
   "execution_count": 14,
   "id": "7263f1cb",
   "metadata": {},
   "outputs": [],
   "source": [
    "W1 = tf.Variable(tf.random.truncated_normal([784,256],stddev=0.1))\n",
    "b1 = tf.Variable(tf.zeros([256]))\n",
    "W2 = tf.Variable(tf.random.truncated_normal([256,128],stddev=0.1))\n",
    "b2 = tf.Variable(tf.zeros([128]))\n",
    "W3 = tf.Variable(tf.random.truncated_normal([128,10],stddev=0.1))\n",
    "b3 = tf.Variable(tf.zeros([10]))\n",
    "a = 1e-3"
   ]
  },
  {
   "cell_type": "code",
   "execution_count": 15,
   "id": "0bacb4ef",
   "metadata": {},
   "outputs": [],
   "source": [
    "# 设置求导监测"
   ]
  },
  {
   "cell_type": "code",
   "execution_count": 17,
   "id": "1f6ecf67",
   "metadata": {},
   "outputs": [
    {
     "name": "stdout",
     "output_type": "stream",
     "text": [
      "第 1 轮test,acc: 0.5349\n",
      "第 2 轮test,acc: 0.5545\n",
      "第 3 轮test,acc: 0.5689\n",
      "第 4 轮test,acc: 0.5821\n",
      "第 5 轮test,acc: 0.5944\n",
      "第 6 轮test,acc: 0.6053\n",
      "第 7 轮test,acc: 0.6157\n",
      "第 8 轮test,acc: 0.6269\n",
      "第 9 轮test,acc: 0.637\n",
      "第 10 轮test,acc: 0.645\n",
      "第 11 轮test,acc: 0.6527\n",
      "第 12 轮test,acc: 0.6599\n",
      "第 13 轮test,acc: 0.6662\n",
      "第 14 轮test,acc: 0.672\n",
      "第 15 轮test,acc: 0.6786\n",
      "第 16 轮test,acc: 0.6848\n",
      "第 17 轮test,acc: 0.6903\n",
      "第 18 轮test,acc: 0.6959\n",
      "第 19 轮test,acc: 0.7009\n",
      "第 20 轮test,acc: 0.7058\n",
      "第 21 轮test,acc: 0.7114\n",
      "第 22 轮test,acc: 0.7152\n",
      "第 23 轮test,acc: 0.7194\n",
      "第 24 轮test,acc: 0.7234\n",
      "第 25 轮test,acc: 0.7279\n",
      "第 26 轮test,acc: 0.7315\n",
      "第 27 轮test,acc: 0.7349\n",
      "第 28 轮test,acc: 0.7377\n",
      "第 29 轮test,acc: 0.7405\n",
      "第 30 轮test,acc: 0.7433\n",
      "第 31 轮test,acc: 0.7458\n",
      "第 32 轮test,acc: 0.7481\n",
      "第 33 轮test,acc: 0.7509\n",
      "第 34 轮test,acc: 0.7534\n",
      "第 35 轮test,acc: 0.7566\n",
      "第 36 轮test,acc: 0.7594\n",
      "第 37 轮test,acc: 0.7628\n",
      "第 38 轮test,acc: 0.7659\n",
      "第 39 轮test,acc: 0.7682\n",
      "第 40 轮test,acc: 0.7704\n",
      "第 41 轮test,acc: 0.7721\n",
      "第 42 轮test,acc: 0.7752\n",
      "第 43 轮test,acc: 0.778\n",
      "第 44 轮test,acc: 0.7801\n",
      "第 45 轮test,acc: 0.7827\n",
      "第 46 轮test,acc: 0.7849\n",
      "第 47 轮test,acc: 0.7873\n",
      "第 48 轮test,acc: 0.7893\n",
      "第 49 轮test,acc: 0.7907\n",
      "第 50 轮test,acc: 0.7927\n",
      "第 51 轮test,acc: 0.7944\n",
      "第 52 轮test,acc: 0.796\n",
      "第 53 轮test,acc: 0.7976\n",
      "第 54 轮test,acc: 0.7989\n",
      "第 55 轮test,acc: 0.8003\n",
      "第 56 轮test,acc: 0.8018\n",
      "第 57 轮test,acc: 0.8038\n",
      "第 58 轮test,acc: 0.8046\n",
      "第 59 轮test,acc: 0.8065\n",
      "第 60 轮test,acc: 0.808\n",
      "第 61 轮test,acc: 0.8101\n",
      "第 62 轮test,acc: 0.8114\n",
      "第 63 轮test,acc: 0.8127\n",
      "第 64 轮test,acc: 0.8141\n",
      "第 65 轮test,acc: 0.8152\n",
      "第 66 轮test,acc: 0.8167\n",
      "第 67 轮test,acc: 0.8181\n",
      "第 68 轮test,acc: 0.8194\n",
      "第 69 轮test,acc: 0.8206\n",
      "第 70 轮test,acc: 0.8217\n",
      "第 71 轮test,acc: 0.8223\n",
      "第 72 轮test,acc: 0.8236\n",
      "第 73 轮test,acc: 0.8241\n",
      "第 74 轮test,acc: 0.8251\n",
      "第 75 轮test,acc: 0.8258\n",
      "第 76 轮test,acc: 0.8271\n",
      "第 77 轮test,acc: 0.828\n",
      "第 78 轮test,acc: 0.8292\n",
      "第 79 轮test,acc: 0.8304\n",
      "第 80 轮test,acc: 0.8312\n",
      "第 81 轮test,acc: 0.8317\n",
      "第 82 轮test,acc: 0.8329\n",
      "第 83 轮test,acc: 0.8335\n",
      "第 84 轮test,acc: 0.8351\n",
      "第 85 轮test,acc: 0.8366\n",
      "第 86 轮test,acc: 0.8373\n",
      "第 87 轮test,acc: 0.8384\n",
      "第 88 轮test,acc: 0.8397\n",
      "第 89 轮test,acc: 0.8402\n",
      "第 90 轮test,acc: 0.8406\n",
      "第 91 轮test,acc: 0.8413\n",
      "第 92 轮test,acc: 0.842\n",
      "第 93 轮test,acc: 0.8427\n",
      "第 94 轮test,acc: 0.8441\n",
      "第 95 轮test,acc: 0.8452\n",
      "第 96 轮test,acc: 0.8456\n",
      "第 97 轮test,acc: 0.8464\n",
      "第 98 轮test,acc: 0.8471\n",
      "第 99 轮test,acc: 0.848\n",
      "第 100 轮test,acc: 0.8487\n"
     ]
    }
   ],
   "source": [
    "for echop in range(100):\n",
    "    for step,(x,y) in enumerate(train_db):\n",
    "        # 维度变换 输入的是【128，28，28】 =>【128，28*28】\n",
    "        x = tf.reshape(x,[-1,28*28])\n",
    "        # 检测求导\n",
    "        with tf.GradientTape() as tape:\n",
    "            tape.watch([W1,b1,W2,b2,W3,b3])\n",
    "            h1 = tf.nn.relu(x@W1+b1)\n",
    "            h2 = tf.nn.relu(h1@W2+b2)\n",
    "            out = h2@W3+b3\n",
    "\n",
    "            #实际值预处理\n",
    "            y_hot = tf.one_hot(y,depth=10)\n",
    "            # 设置损失函数\n",
    "            loss = tf.reduce_mean(tf.square(y_hot-out))\n",
    "        # 得到梯度\n",
    "        grads = tape.gradient(loss,[W1,b1,W2,b2,W3,b3])\n",
    "\n",
    "        # 参数更新\n",
    "        W1.assign_sub(a*grads[0])\n",
    "        b1.assign_sub(a*grads[1])\n",
    "        W2.assign_sub(a*grads[2])\n",
    "        b2.assign_sub(a*grads[3])\n",
    "        W3.assign_sub(a*grads[4])\n",
    "        b3.assign_sub(a*grads[5])\n",
    "\n",
    "#         打印数据\n",
    "#         if step%100 == 0:\n",
    "#             print(step,\"loss:\",loss)  \n",
    "    # 测试\n",
    "    correct_num,total_num = 0,0\n",
    "    for (x,y) in test_db:\n",
    "        x = tf.reshape(x,[-1,28*28])\n",
    "        h1 = tf.nn.relu(x@W1+b1)\n",
    "        h2 = tf.nn.relu(h1@W2+b2)\n",
    "        out = h2@W3+b3\n",
    "            \n",
    "        prob = tf.nn.softmax(out,axis=1)\n",
    "        pred = tf.argmax(prob,axis=1)\n",
    "        pred = tf.cast(pred,dtype=tf.int32)\n",
    "            \n",
    "        correct = tf.cast(tf.equal(pred,y),dtype=tf.int32)\n",
    "        correct = tf.reduce_sum(correct)\n",
    "        correct_num += int(correct)\n",
    "        total_num += x.shape[0]\n",
    "            \n",
    "    acc = correct_num/total_num\n",
    "    print(\"第\",echop+1,\"轮test,acc:\",acc)\n"
   ]
  },
  {
   "cell_type": "code",
   "execution_count": 25,
   "id": "5b613384",
   "metadata": {},
   "outputs": [],
   "source": [
    "import matplotlib.pyplot as plt\n",
    "import numpy as np"
   ]
  },
  {
   "cell_type": "code",
   "execution_count": 31,
   "id": "577c980c",
   "metadata": {},
   "outputs": [
    {
     "data": {
      "text/plain": [
       "(60000, 28, 28)"
      ]
     },
     "execution_count": 31,
     "metadata": {},
     "output_type": "execute_result"
    }
   ],
   "source": [
    "x.shape"
   ]
  },
  {
   "cell_type": "code",
   "execution_count": 32,
   "id": "e703b8fd",
   "metadata": {},
   "outputs": [
    {
     "data": {
      "text/plain": [
       "4"
      ]
     },
     "execution_count": 32,
     "metadata": {},
     "output_type": "execute_result"
    }
   ],
   "source": [
    "y[2]"
   ]
  },
  {
   "cell_type": "code",
   "execution_count": 30,
   "id": "765a1f21",
   "metadata": {},
   "outputs": [
    {
     "data": {
      "image/png": "[encoded data removed]",
      "text/plain": [
       "<Figure size 432x288 with 2 Axes>"
      ]
     },
     "metadata": {
      "needs_background": "light"
     },
     "output_type": "display_data"
    }
   ],
   "source": [
    "plt.figure()\n",
    "plt.imshow(x[2])\n",
    "plt.colorbar()\n",
    "plt.grid(False)\n",
    "plt.show()"
   ]
  },
  {
   "cell_type": "code",
   "execution_count": null,
   "id": "b28a70ae",
   "metadata": {},
   "outputs": [],
   "source": []
  }
 ],
 "metadata": {
  "kernelspec": {
   "display_name": "Python 3 (ipykernel)",
   "language": "python",
   "name": "python3"
  },
  "language_info": {
   "codemirror_mode": {
    "name": "ipython",
    "version": 3
   },
   "file_extension": ".py",
   "mimetype": "text/x-python",
   "name": "python",
   "nbconvert_exporter": "python",
   "pygments_lexer": "ipython3",
   "version": "3.9.12"
  }
 },
 "nbformat": 4,
 "nbformat_minor": 5
}
