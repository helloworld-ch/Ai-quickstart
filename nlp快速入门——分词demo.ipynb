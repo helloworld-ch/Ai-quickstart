{
 "cells": [
  {
   "cell_type": "code",
   "execution_count": 8,
   "id": "7afadb5e",
   "metadata": {},
   "outputs": [],
   "source": [
    "import jieba"
   ]
  },
  {
   "cell_type": "code",
   "execution_count": 10,
   "id": "075c60a9",
   "metadata": {},
   "outputs": [
    {
     "name": "stderr",
     "output_type": "stream",
     "text": [
      "Building prefix dict from the default dictionary ...\n",
      "Dumping model to file cache C:\\Users\\Lenovo\\AppData\\Local\\Temp\\jieba.cache\n",
      "Loading model cost 1.136 seconds.\n",
      "Prefix dict has been built successfully.\n"
     ]
    },
    {
     "name": "stdout",
     "output_type": "stream",
     "text": [
      "我/是/一个/程序员\n"
     ]
    }
   ],
   "source": [
    "cut_list = jieba.cut(\"我是一个程序员\",cut_all=False)\n",
    "print(\"/\".join(cut_list))"
   ]
  },
  {
   "cell_type": "code",
   "execution_count": 12,
   "id": "90179581",
   "metadata": {},
   "outputs": [
    {
     "name": "stdout",
     "output_type": "stream",
     "text": [
      "九江学院/是/一所/综合型/大学\n"
     ]
    }
   ],
   "source": [
    "jieba.add_word(\"九江学院\")\n",
    "cut_list = jieba.cut(\"九江学院是一所综合型大学\",cut_all=False)\n",
    "print(\"/\".join(cut_list))"
   ]
  },
  {
   "cell_type": "code",
   "execution_count": null,
   "id": "5cdf6f62",
   "metadata": {},
   "outputs": [],
   "source": []
  }
 ],
 "metadata": {
  "kernelspec": {
   "display_name": "Python 3",
   "language": "python",
   "name": "python3"
  },
  "language_info": {
   "codemirror_mode": {
    "name": "ipython",
    "version": 3
   },
   "file_extension": ".py",
   "mimetype": "text/x-python",
   "name": "python",
   "nbconvert_exporter": "python",
   "pygments_lexer": "ipython3",
   "version": "3.8.8"
  }
 },
 "nbformat": 4,
 "nbformat_minor": 5
}
