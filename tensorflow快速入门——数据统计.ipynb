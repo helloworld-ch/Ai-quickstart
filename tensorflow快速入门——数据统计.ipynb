{
 "cells": [
  {
   "cell_type": "code",
   "execution_count": 1,
   "id": "d2962add",
   "metadata": {},
   "outputs": [],
   "source": [
    "import tensorflow as tf"
   ]
  },
  {
   "cell_type": "code",
   "execution_count": 14,
   "id": "d1fb301c",
   "metadata": {},
   "outputs": [],
   "source": [
    "p_a = tf.constant([[0.1,0.2,0.7],\n",
    "                  [0.9,0.05,0.05]])"
   ]
  },
  {
   "cell_type": "code",
   "execution_count": 15,
   "id": "794c2d09",
   "metadata": {},
   "outputs": [
    {
     "data": {
      "text/plain": [
       "<tf.Tensor: shape=(2, 3), dtype=float32, numpy=\n",
       "array([[0.1 , 0.2 , 0.7 ],\n",
       "       [0.9 , 0.05, 0.05]], dtype=float32)>"
      ]
     },
     "execution_count": 15,
     "metadata": {},
     "output_type": "execute_result"
    }
   ],
   "source": [
    "p_a"
   ]
  },
  {
   "cell_type": "code",
   "execution_count": 18,
   "id": "1d38ac97",
   "metadata": {},
   "outputs": [],
   "source": [
    "prev_index = tf.cast(tf.argmax(p_a,axis=1),dtype='int32') # 表示在列上（3个数中选最大的）选出最大值的下标并转换成int32"
   ]
  },
  {
   "cell_type": "code",
   "execution_count": 19,
   "id": "28d5860b",
   "metadata": {},
   "outputs": [
    {
     "data": {
      "text/plain": [
       "<tf.Tensor: shape=(2,), dtype=int32, numpy=array([2, 0])>"
      ]
     },
     "execution_count": 19,
     "metadata": {},
     "output_type": "execute_result"
    }
   ],
   "source": [
    "prev_index"
   ]
  },
  {
   "cell_type": "code",
   "execution_count": 20,
   "id": "0fb0edcd",
   "metadata": {},
   "outputs": [],
   "source": [
    "data_y = tf.constant([2,1],dtype='int32') # 表示真实数据为2类和1类"
   ]
  },
  {
   "cell_type": "code",
   "execution_count": 21,
   "id": "7c1cc403",
   "metadata": {},
   "outputs": [],
   "source": [
    "# 直接采用暴力的逻辑回归，即不相等就是0，相等就是1"
   ]
  },
  {
   "cell_type": "code",
   "execution_count": 22,
   "id": "f78febb2",
   "metadata": {},
   "outputs": [],
   "source": [
    "correct = tf.cast(tf.equal(data_y,prev_index),dtype='int32')"
   ]
  },
  {
   "cell_type": "code",
   "execution_count": 23,
   "id": "59211739",
   "metadata": {},
   "outputs": [
    {
     "data": {
      "text/plain": [
       "<tf.Tensor: shape=(2,), dtype=int32, numpy=array([1, 0])>"
      ]
     },
     "execution_count": 23,
     "metadata": {},
     "output_type": "execute_result"
    }
   ],
   "source": [
    "correct # 对比值"
   ]
  },
  {
   "cell_type": "code",
   "execution_count": 24,
   "id": "177ecf99",
   "metadata": {},
   "outputs": [],
   "source": [
    "loss = tf.reduce_sum(correct) # 损失值"
   ]
  },
  {
   "cell_type": "code",
   "execution_count": 29,
   "id": "ee480990",
   "metadata": {},
   "outputs": [],
   "source": [
    "loss_mean = loss/len(correct) # 均值损失"
   ]
  },
  {
   "cell_type": "code",
   "execution_count": 30,
   "id": "4993b3a7",
   "metadata": {},
   "outputs": [
    {
     "data": {
      "text/plain": [
       "<tf.Tensor: shape=(), dtype=float64, numpy=0.5>"
      ]
     },
     "execution_count": 30,
     "metadata": {},
     "output_type": "execute_result"
    }
   ],
   "source": [
    "loss_mean"
   ]
  },
  {
   "cell_type": "code",
   "execution_count": null,
   "id": "a0a0f3fc",
   "metadata": {},
   "outputs": [],
   "source": []
  }
 ],
 "metadata": {
  "kernelspec": {
   "display_name": "Python 3 (ipykernel)",
   "language": "python",
   "name": "python3"
  },
  "language_info": {
   "codemirror_mode": {
    "name": "ipython",
    "version": 3
   },
   "file_extension": ".py",
   "mimetype": "text/x-python",
   "name": "python",
   "nbconvert_exporter": "python",
   "pygments_lexer": "ipython3",
   "version": "3.9.12"
  }
 },
 "nbformat": 4,
 "nbformat_minor": 5
}
