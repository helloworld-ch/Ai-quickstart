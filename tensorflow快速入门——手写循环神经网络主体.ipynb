{
 "cells": [
  {
   "cell_type": "code",
   "execution_count": 1,
   "id": "bca8e170",
   "metadata": {},
   "outputs": [],
   "source": [
    "import tensorflow as tf"
   ]
  },
  {
   "cell_type": "code",
   "execution_count": 2,
   "id": "6d5dbf84",
   "metadata": {},
   "outputs": [],
   "source": [
    "# 传入的数据模拟"
   ]
  },
  {
   "cell_type": "code",
   "execution_count": 6,
   "id": "ef382cd7",
   "metadata": {},
   "outputs": [],
   "source": [
    "x = tf.random.uniform([4,80,100],minval=1,maxval=10) # 表示4句话，每句话80词，每个词100个符号表示"
   ]
  },
  {
   "cell_type": "code",
   "execution_count": 7,
   "id": "56eba88e",
   "metadata": {},
   "outputs": [],
   "source": [
    "rnn_cell0 = tf.keras.layers.SimpleRNNCell(64)\n",
    "rnn_cell1 = tf.keras.layers.SimpleRNNCell(64)"
   ]
  },
  {
   "cell_type": "code",
   "execution_count": 8,
   "id": "4211f720",
   "metadata": {},
   "outputs": [],
   "source": [
    "def forward(x):\n",
    "    # 这里假设有两个循环层\n",
    "    state0 = [tf.zeros([x.shape[0],64])]\n",
    "    state1 = [tf.zeros([x.shape[0],64])]\n",
    "    \n",
    "    for i in tf.unstack(x,axis=1): # 一次循环的总次数，也就是单词数\n",
    "        out0,state0 = rnn_cell0(x,state0)\n",
    "        \n",
    "        # 这又是一层循环组\n",
    "        out,state1 = rnn_cell1(out0,state1)\n",
    "        "
   ]
  },
  {
   "cell_type": "code",
   "execution_count": null,
   "id": "88ca590a",
   "metadata": {},
   "outputs": [],
   "source": []
  }
 ],
 "metadata": {
  "kernelspec": {
   "display_name": "Python 3 (ipykernel)",
   "language": "python",
   "name": "python3"
  },
  "language_info": {
   "codemirror_mode": {
    "name": "ipython",
    "version": 3
   },
   "file_extension": ".py",
   "mimetype": "text/x-python",
   "name": "python",
   "nbconvert_exporter": "python",
   "pygments_lexer": "ipython3",
   "version": "3.9.12"
  }
 },
 "nbformat": 4,
 "nbformat_minor": 5
}
