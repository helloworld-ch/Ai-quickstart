{
 "cells": [
  {
   "cell_type": "code",
   "execution_count": 4,
   "id": "ec8ba749",
   "metadata": {},
   "outputs": [],
   "source": [
    "import tensorflow as tf\n",
    "from tensorflow import keras"
   ]
  },
  {
   "cell_type": "code",
   "execution_count": 2,
   "id": "93fb2269",
   "metadata": {},
   "outputs": [],
   "source": [
    "# 准备数据"
   ]
  },
  {
   "cell_type": "code",
   "execution_count": 5,
   "id": "070e5a70",
   "metadata": {},
   "outputs": [],
   "source": [
    "(x,y),(x_test,y_test) = keras.datasets.mnist.load_data()"
   ]
  },
  {
   "cell_type": "code",
   "execution_count": 6,
   "id": "e9616e33",
   "metadata": {},
   "outputs": [],
   "source": [
    "def proccess(x,y):\n",
    "    x = tf.convert_to_tensor(tf.cast(x,dtype=tf.float32))/255.\n",
    "    y = tf.convert_to_tensor(tf.cast(y,dtype=tf.int32))\n",
    "    x = tf.reshape(x,[28*28])\n",
    "    y = tf.one_hot(y,depth=10)\n",
    "    return x,y"
   ]
  },
  {
   "cell_type": "code",
   "execution_count": 7,
   "id": "b8eda669",
   "metadata": {},
   "outputs": [],
   "source": [
    "banchsize = 128"
   ]
  },
  {
   "cell_type": "code",
   "execution_count": 8,
   "id": "ad004f9b",
   "metadata": {},
   "outputs": [],
   "source": [
    "train_db = tf.data.Dataset.from_tensor_slices((x,y)).map(proccess).shuffle(10000).batch(banchsize)\n",
    "test_db = tf.data.Dataset.from_tensor_slices((x,y)).map(proccess).batch(banchsize)"
   ]
  },
  {
   "cell_type": "code",
   "execution_count": 9,
   "id": "980565f2",
   "metadata": {},
   "outputs": [],
   "source": [
    "# 设置自定义层"
   ]
  },
  {
   "cell_type": "code",
   "execution_count": 12,
   "id": "76bbff4d",
   "metadata": {},
   "outputs": [],
   "source": [
    "class MyDense(keras.layers.Layer):\n",
    "    def __init__(self,inp_dim,outp_dim):\n",
    "        super(MyDense, self).__init__()\n",
    "        \n",
    "        self.kernel = self.add_weight('w', [inp_dim, outp_dim])\n",
    "        self.bias = self.add_weight('b', [outp_dim])\n",
    "        \n",
    "    def call(self, inputs, training=None):   #重写call方法\n",
    "\n",
    "        out = inputs @ self.kernel + self.bias\n",
    "\n",
    "        return out "
   ]
  },
  {
   "cell_type": "code",
   "execution_count": 13,
   "id": "decc380e",
   "metadata": {},
   "outputs": [],
   "source": [
    "class MyModel(keras.Model):  #继承keras.Model父类\n",
    "\n",
    "    def __init__(self):    #继承父类属性\n",
    "        super(MyModel, self).__init__()\n",
    "\n",
    "        self.fc1 = MyDense(28*28, 256)\n",
    "        self.fc2 = MyDense(256, 128)\n",
    "        self.fc3 = MyDense(128, 64)\n",
    "        self.fc4 = MyDense(64, 32)\n",
    "        self.fc5 = MyDense(32, 10)\n",
    "\n",
    "    def call(self, inputs, training=None):   #重写call方法\n",
    "\n",
    "        x = self.fc1(inputs)\n",
    "        x = tf.nn.relu(x)\n",
    "        x = self.fc2(x)\n",
    "        x = tf.nn.relu(x)\n",
    "        x = self.fc3(x)\n",
    "        x = tf.nn.relu(x)\n",
    "        x = self.fc4(x)\n",
    "        x = tf.nn.relu(x)\n",
    "        x = self.fc5(x) \n",
    "\n",
    "        return x"
   ]
  },
  {
   "cell_type": "code",
   "execution_count": 14,
   "id": "b310787d",
   "metadata": {},
   "outputs": [],
   "source": [
    "network = MyModel()"
   ]
  },
  {
   "cell_type": "code",
   "execution_count": 17,
   "id": "dade0a6b",
   "metadata": {},
   "outputs": [],
   "source": [
    "network.compile(optimizer=tf.keras.optimizers.Adam(1e-3),\n",
    "        loss=tf.losses.CategoricalCrossentropy(from_logits=True),\n",
    "        metrics=['accuracy']\n",
    "    )"
   ]
  },
  {
   "cell_type": "code",
   "execution_count": 18,
   "id": "e8b48207",
   "metadata": {},
   "outputs": [
    {
     "name": "stdout",
     "output_type": "stream",
     "text": [
      "Epoch 1/10\n",
      "469/469 [==============================] - 3s 4ms/step - loss: 0.3096 - accuracy: 0.9063\n",
      "Epoch 2/10\n",
      "469/469 [==============================] - 3s 6ms/step - loss: 0.1097 - accuracy: 0.9667 - val_loss: 0.0736 - val_accuracy: 0.9780\n",
      "Epoch 3/10\n",
      "469/469 [==============================] - 2s 4ms/step - loss: 0.0749 - accuracy: 0.9763\n",
      "Epoch 4/10\n",
      "469/469 [==============================] - 3s 6ms/step - loss: 0.0522 - accuracy: 0.9834 - val_loss: 0.0446 - val_accuracy: 0.9859\n",
      "Epoch 5/10\n",
      "469/469 [==============================] - 2s 4ms/step - loss: 0.0413 - accuracy: 0.9875\n",
      "Epoch 6/10\n",
      "469/469 [==============================] - 3s 6ms/step - loss: 0.0310 - accuracy: 0.9895 - val_loss: 0.0235 - val_accuracy: 0.9926\n",
      "Epoch 7/10\n",
      "469/469 [==============================] - 2s 4ms/step - loss: 0.0290 - accuracy: 0.9903\n",
      "Epoch 8/10\n",
      "469/469 [==============================] - 3s 6ms/step - loss: 0.0240 - accuracy: 0.9919 - val_loss: 0.0162 - val_accuracy: 0.9948\n",
      "Epoch 9/10\n",
      "469/469 [==============================] - 2s 4ms/step - loss: 0.0182 - accuracy: 0.9938\n",
      "Epoch 10/10\n",
      "469/469 [==============================] - 3s 6ms/step - loss: 0.0193 - accuracy: 0.9937 - val_loss: 0.0154 - val_accuracy: 0.9951\n"
     ]
    },
    {
     "data": {
      "text/plain": [
       "<keras.callbacks.History at 0x1e1397e8460>"
      ]
     },
     "execution_count": 18,
     "metadata": {},
     "output_type": "execute_result"
    }
   ],
   "source": [
    "network.fit(train_db, epochs=10, validation_data=test_db,\n",
    "              validation_freq=2)"
   ]
  },
  {
   "cell_type": "code",
   "execution_count": 19,
   "id": "c17497d5",
   "metadata": {},
   "outputs": [
    {
     "name": "stdout",
     "output_type": "stream",
     "text": [
      "469/469 [==============================] - 1s 2ms/step - loss: 0.0154 - accuracy: 0.9951\n"
     ]
    },
    {
     "data": {
      "text/plain": [
       "[0.015444026328623295, 0.995116651058197]"
      ]
     },
     "execution_count": 19,
     "metadata": {},
     "output_type": "execute_result"
    }
   ],
   "source": [
    "network.evaluate(test_db)"
   ]
  },
  {
   "cell_type": "code",
   "execution_count": 20,
   "id": "3800ca0e",
   "metadata": {},
   "outputs": [
    {
     "name": "stdout",
     "output_type": "stream",
     "text": [
      "4/4 [==============================] - 0s 2ms/step\n",
      "tf.Tensor(\n",
      "[5 0 4 1 9 2 1 3 1 4 3 5 3 6 1 7 2 8 6 9 4 0 9 1 1 2 4 3 2 7 3 8 6 9 0 5 6\n",
      " 0 7 6 1 8 7 9 3 9 8 5 9 3 3 0 7 4 9 8 0 9 4 1 4 4 6 0 4 5 6 1 0 0 1 7 1 6\n",
      " 3 0 2 1 1 7 8 0 2 6 7 8 3 9 0 4 6 7 4 6 8 0 7 8 3 1 5 7 1 7 1 1 6 3 0 2 9\n",
      " 3 1 1 0 4 9 2 0 0 2 0 2 7 1 8 6 4], shape=(128,), dtype=int64)\n",
      "tf.Tensor(\n",
      "[5 0 4 1 9 2 1 3 1 4 3 5 3 6 1 7 2 8 6 9 4 0 9 1 1 2 4 3 2 7 3 8 6 9 0 5 6\n",
      " 0 7 6 1 8 7 9 3 9 8 5 9 3 3 0 7 4 9 8 0 9 4 1 4 4 6 0 4 5 6 1 0 0 1 7 1 6\n",
      " 3 0 2 1 1 7 9 0 2 6 7 8 3 9 0 4 6 7 4 6 8 0 7 8 3 1 5 7 1 7 1 1 6 3 0 2 9\n",
      " 3 1 1 0 4 9 2 0 0 2 0 2 7 1 8 6 4], shape=(128,), dtype=int64)\n"
     ]
    }
   ],
   "source": [
    "sample = next(iter(test_db))\n",
    "x = sample[0]\n",
    "y = sample[1] # one-hot\n",
    "pred = network.predict(x) # [b, 10]\n",
    "# convert back to number \n",
    "y = tf.argmax(y, axis=1)\n",
    "pred = tf.argmax(pred, axis=1)\n",
    "\n",
    "print(pred)\n",
    "print(y)"
   ]
  },
  {
   "cell_type": "code",
   "execution_count": null,
   "id": "dd05d37c",
   "metadata": {},
   "outputs": [],
   "source": []
  }
 ],
 "metadata": {
  "kernelspec": {
   "display_name": "Python 3 (ipykernel)",
   "language": "python",
   "name": "python3"
  },
  "language_info": {
   "codemirror_mode": {
    "name": "ipython",
    "version": 3
   },
   "file_extension": ".py",
   "mimetype": "text/x-python",
   "name": "python",
   "nbconvert_exporter": "python",
   "pygments_lexer": "ipython3",
   "version": "3.9.12"
  }
 },
 "nbformat": 4,
 "nbformat_minor": 5
}
