{
 "cells": [
  {
   "cell_type": "code",
   "execution_count": 1,
   "id": "4b80c7c3",
   "metadata": {},
   "outputs": [],
   "source": [
    "# 搭建数据集"
   ]
  },
  {
   "cell_type": "code",
   "execution_count": 2,
   "id": "42a87067",
   "metadata": {},
   "outputs": [],
   "source": [
    "import numpy as np"
   ]
  },
  {
   "cell_type": "code",
   "execution_count": 3,
   "id": "1d09c4a5",
   "metadata": {},
   "outputs": [],
   "source": [
    "dict_list = [\"经常\",\"经\",\"有\",\"有意见\",\"意见\",\"分歧\",\"见\",\"意\",\"见分歧\",\"分\"]\n",
    "prob = [0.1 ,0.05 ,0.1 ,0.1 ,0.2 ,0.2 ,0.05 ,0.05 ,0.05 ,0.1]\n",
    "logits = [2.3 , 3 , 2.3 , 2.3 , 1.6 , 1.6 , 1 , 1 , 1, 2.3]"
   ]
  },
  {
   "cell_type": "code",
   "execution_count": 4,
   "id": "3df57527",
   "metadata": {},
   "outputs": [],
   "source": [
    "data = [dict_list,prob,logits]"
   ]
  },
  {
   "cell_type": "code",
   "execution_count": 5,
   "id": "8498256a",
   "metadata": {},
   "outputs": [],
   "source": [
    "data = np.array(data)"
   ]
  },
  {
   "cell_type": "code",
   "execution_count": 6,
   "id": "4b4ca0d7",
   "metadata": {},
   "outputs": [
    {
     "data": {
      "text/plain": [
       "array([['经常', '经', '有', '有意见', '意见', '分歧', '见', '意', '见分歧', '分'],\n",
       "       ['0.1', '0.05', '0.1', '0.1', '0.2', '0.2', '0.05', '0.05',\n",
       "        '0.05', '0.1'],\n",
       "       ['2.3', '3', '2.3', '2.3', '1.6', '1.6', '1', '1', '1', '2.3']],\n",
       "      dtype='<U32')"
      ]
     },
     "execution_count": 6,
     "metadata": {},
     "output_type": "execute_result"
    }
   ],
   "source": [
    "data"
   ]
  },
  {
   "cell_type": "code",
   "execution_count": 7,
   "id": "d4fabbc9",
   "metadata": {},
   "outputs": [],
   "source": [
    "demo = \"经常有意见分歧\""
   ]
  },
  {
   "cell_type": "code",
   "execution_count": 8,
   "id": "038cf330",
   "metadata": {},
   "outputs": [],
   "source": [
    "# 搭建有向图 边代表词"
   ]
  },
  {
   "cell_type": "code",
   "execution_count": 9,
   "id": "ba14ea44",
   "metadata": {},
   "outputs": [],
   "source": [
    "V = [[ 0 for i in range(len(demo)+1)] for i in range(len(demo)+1)]"
   ]
  },
  {
   "cell_type": "code",
   "execution_count": 10,
   "id": "c55ff441",
   "metadata": {},
   "outputs": [],
   "source": [
    "# 有向图预处理"
   ]
  },
  {
   "cell_type": "code",
   "execution_count": 11,
   "id": "abd8fda7",
   "metadata": {},
   "outputs": [],
   "source": [
    "def preprocess(V):\n",
    "    for i in range(len(demo)):\n",
    "        V[i][i+1] = 20\n",
    "    return V"
   ]
  },
  {
   "cell_type": "code",
   "execution_count": 12,
   "id": "cb757741",
   "metadata": {},
   "outputs": [],
   "source": [
    "V = preprocess(V)"
   ]
  },
  {
   "cell_type": "code",
   "execution_count": 13,
   "id": "54623d3c",
   "metadata": {},
   "outputs": [],
   "source": [
    "def update_V(data,demo,V):\n",
    "    for i in range(len(demo)):\n",
    "        maxNum =  i+1\n",
    "        left = 0\n",
    "        right = left+maxNum\n",
    "        while(right<=len(demo)):\n",
    "            temp = demo[left:right]\n",
    "#             print(temp)\n",
    "            for j in range(len(data[0])):\n",
    "                if temp == data[0][j]:\n",
    "                    V[left][right] = float(data[2][j])\n",
    "            left +=1\n",
    "            right = left+maxNum"
   ]
  },
  {
   "cell_type": "code",
   "execution_count": 14,
   "id": "5eae04a0",
   "metadata": {},
   "outputs": [],
   "source": [
    "update_V(data,demo,V)"
   ]
  },
  {
   "cell_type": "code",
   "execution_count": 15,
   "id": "06a2f595",
   "metadata": {},
   "outputs": [
    {
     "data": {
      "text/plain": [
       "[[0, 3.0, 2.3, 0, 0, 0, 0, 0],\n",
       " [0, 0, 20, 0, 0, 0, 0, 0],\n",
       " [0, 0, 0, 2.3, 0, 2.3, 0, 0],\n",
       " [0, 0, 0, 0, 1.0, 1.6, 0, 0],\n",
       " [0, 0, 0, 0, 0, 1.0, 0, 1.0],\n",
       " [0, 0, 0, 0, 0, 0, 2.3, 1.6],\n",
       " [0, 0, 0, 0, 0, 0, 0, 20],\n",
       " [0, 0, 0, 0, 0, 0, 0, 0]]"
      ]
     },
     "execution_count": 15,
     "metadata": {},
     "output_type": "execute_result"
    }
   ],
   "source": [
    "V"
   ]
  },
  {
   "cell_type": "code",
   "execution_count": 16,
   "id": "056374ce",
   "metadata": {},
   "outputs": [],
   "source": [
    "# 设置一个数组，存放到达当前节点最短路径的上一个节点号"
   ]
  },
  {
   "cell_type": "code",
   "execution_count": 17,
   "id": "cf2ea052",
   "metadata": {},
   "outputs": [],
   "source": [
    "nodes = [i+1 for i in range(len(demo))]"
   ]
  },
  {
   "cell_type": "code",
   "execution_count": 18,
   "id": "3b6fb59f",
   "metadata": {},
   "outputs": [
    {
     "data": {
      "text/plain": [
       "[1, 2, 3, 4, 5, 6, 7]"
      ]
     },
     "execution_count": 18,
     "metadata": {},
     "output_type": "execute_result"
    }
   ],
   "source": [
    "nodes"
   ]
  },
  {
   "cell_type": "code",
   "execution_count": 19,
   "id": "510977a9",
   "metadata": {},
   "outputs": [],
   "source": [
    "def dp_getMinRoute(V,nodes):\n",
    "    nums = [1000 for i in range(len(V[0]))]\n",
    "    nums[0] = 0\n",
    "    queue = [0,]\n",
    "    index = queue.pop(0)\n",
    "    for i in range(len(V[index])):\n",
    "        if V[index][i] != 0:\n",
    "            queue.append(i)\n",
    "            if nums[i]>V[index][i]:\n",
    "                nums[i] = V[index][i]\n",
    "                nodes[i-1] = index\n",
    "    while(len(queue)!=0):\n",
    "        index = queue.pop(0)\n",
    "        for i in range(len(V[index])):\n",
    "            if V[index][i] != 0:\n",
    "                if i not in queue:\n",
    "                    queue.append(i)\n",
    "                if nums[i]>nums[index]+V[index][i]:\n",
    "                    nums[i] = nums[index]+V[index][i]\n",
    "                    nodes[i-1] = index\n",
    "    return nodes"
   ]
  },
  {
   "cell_type": "code",
   "execution_count": 20,
   "id": "22ed6542",
   "metadata": {},
   "outputs": [],
   "source": [
    "nodes = dp_getMinRoute(V,nodes)"
   ]
  },
  {
   "cell_type": "code",
   "execution_count": 21,
   "id": "2ad97389",
   "metadata": {},
   "outputs": [],
   "source": [
    "# 解析最短路径"
   ]
  },
  {
   "cell_type": "code",
   "execution_count": 22,
   "id": "16cfb68f",
   "metadata": {},
   "outputs": [],
   "source": [
    "def decode_nodes(nodes):\n",
    "    temp = nodes[len(nodes)-1]\n",
    "    result = []\n",
    "    result.append(len(nodes))\n",
    "    result.append(temp)\n",
    "    while(temp!=0):\n",
    "        result.append(nodes[temp-1])\n",
    "        temp = nodes[temp-1]\n",
    "    result = result[::-1]\n",
    "    return result"
   ]
  },
  {
   "cell_type": "code",
   "execution_count": 23,
   "id": "f884fb85",
   "metadata": {},
   "outputs": [],
   "source": [
    "nodes_result = decode_nodes(nodes)"
   ]
  },
  {
   "cell_type": "code",
   "execution_count": 24,
   "id": "6f7728cb",
   "metadata": {},
   "outputs": [
    {
     "data": {
      "text/plain": [
       "[0, 2, 5, 7]"
      ]
     },
     "execution_count": 24,
     "metadata": {},
     "output_type": "execute_result"
    }
   ],
   "source": [
    "nodes_result"
   ]
  },
  {
   "cell_type": "code",
   "execution_count": 25,
   "id": "cfcefe13",
   "metadata": {},
   "outputs": [],
   "source": [
    "# 分词切割"
   ]
  },
  {
   "cell_type": "code",
   "execution_count": 26,
   "id": "500924f9",
   "metadata": {},
   "outputs": [],
   "source": [
    "def getResult(demo,nodes):\n",
    "    result = []\n",
    "    for i in range(len(nodes)-1):\n",
    "        result.append(demo[nodes[i]:nodes[i+1]])\n",
    "    return result"
   ]
  },
  {
   "cell_type": "code",
   "execution_count": 27,
   "id": "0b1cac59",
   "metadata": {},
   "outputs": [
    {
     "data": {
      "text/plain": [
       "['经常', '有意见', '分歧']"
      ]
     },
     "execution_count": 27,
     "metadata": {},
     "output_type": "execute_result"
    }
   ],
   "source": [
    "getResult(demo,nodes_result)"
   ]
  },
  {
   "cell_type": "code",
   "execution_count": null,
   "id": "ce91b874",
   "metadata": {},
   "outputs": [],
   "source": []
  }
 ],
 "metadata": {
  "kernelspec": {
   "display_name": "Python 3",
   "language": "python",
   "name": "python3"
  },
  "language_info": {
   "codemirror_mode": {
    "name": "ipython",
    "version": 3
   },
   "file_extension": ".py",
   "mimetype": "text/x-python",
   "name": "python",
   "nbconvert_exporter": "python",
   "pygments_lexer": "ipython3",
   "version": "3.8.8"
  }
 },
 "nbformat": 4,
 "nbformat_minor": 5
}
