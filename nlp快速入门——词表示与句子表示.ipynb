{
 "cells": [
  {
   "cell_type": "code",
   "execution_count": 1,
   "id": "809f30d1",
   "metadata": {},
   "outputs": [],
   "source": [
    "import numpy as np\n",
    "import jieba"
   ]
  },
  {
   "cell_type": "code",
   "execution_count": 2,
   "id": "d2cd2673",
   "metadata": {},
   "outputs": [],
   "source": [
    "# 词表示方法 one_Hot方法"
   ]
  },
  {
   "cell_type": "code",
   "execution_count": 3,
   "id": "7398348f",
   "metadata": {},
   "outputs": [],
   "source": [
    "# 设置词典为"
   ]
  },
  {
   "cell_type": "code",
   "execution_count": 4,
   "id": "e8b0c43f",
   "metadata": {},
   "outputs": [],
   "source": [
    "words_db = [\"我们\",\"又\",\"爬山\",\"跑步\",\"去\",\"一起\",\"今天\",\"昨天\"]"
   ]
  },
  {
   "cell_type": "code",
   "execution_count": 5,
   "id": "4fbccb44",
   "metadata": {},
   "outputs": [],
   "source": [
    "# 词"
   ]
  },
  {
   "cell_type": "code",
   "execution_count": 6,
   "id": "3715d0d4",
   "metadata": {},
   "outputs": [],
   "source": [
    "word_one = \"我们\""
   ]
  },
  {
   "cell_type": "code",
   "execution_count": 7,
   "id": "d24a559e",
   "metadata": {},
   "outputs": [],
   "source": [
    "def getWord_vec(word,words_db):\n",
    "    # 用一个词典长度的向量来表示这个词\n",
    "    word_vec = np.zeros(len(words_db),dtype = \"int32\")\n",
    "    for i in range(len(words_db)):\n",
    "        if words_db[i] == word:\n",
    "            word_vec[i] = 1\n",
    "    return word_vec"
   ]
  },
  {
   "cell_type": "code",
   "execution_count": 8,
   "id": "c9015b89",
   "metadata": {},
   "outputs": [
    {
     "data": {
      "text/plain": [
       "array([1, 0, 0, 0, 0, 0, 0, 0])"
      ]
     },
     "execution_count": 8,
     "metadata": {},
     "output_type": "execute_result"
    }
   ],
   "source": [
    "getWord_vec(word_one,words_db)"
   ]
  },
  {
   "cell_type": "code",
   "execution_count": 9,
   "id": "3fa7d9bf",
   "metadata": {},
   "outputs": [],
   "source": [
    "# 句子表示"
   ]
  },
  {
   "cell_type": "code",
   "execution_count": 10,
   "id": "4320e7ba",
   "metadata": {},
   "outputs": [],
   "source": [
    "sentence_one = \"我们今天去爬山\""
   ]
  },
  {
   "cell_type": "code",
   "execution_count": 11,
   "id": "d2772c1c",
   "metadata": {},
   "outputs": [
    {
     "name": "stderr",
     "output_type": "stream",
     "text": [
      "Building prefix dict from the default dictionary ...\n",
      "Loading model from cache C:\\Users\\Lenovo\\AppData\\Local\\Temp\\jieba.cache\n",
      "Loading model cost 0.752 seconds.\n",
      "Prefix dict has been built successfully.\n"
     ]
    }
   ],
   "source": [
    "sentence_array_one = list(jieba.cut(sentence_one,cut_all=False))"
   ]
  },
  {
   "cell_type": "code",
   "execution_count": 12,
   "id": "7e84da48",
   "metadata": {},
   "outputs": [
    {
     "name": "stdout",
     "output_type": "stream",
     "text": [
      "我们/今天/去/爬山\n"
     ]
    }
   ],
   "source": [
    "print(\"/\".join(sentence_array_one))"
   ]
  },
  {
   "cell_type": "code",
   "execution_count": 13,
   "id": "d37ebc85",
   "metadata": {},
   "outputs": [],
   "source": [
    "# boolean方法"
   ]
  },
  {
   "cell_type": "code",
   "execution_count": 14,
   "id": "3f194361",
   "metadata": {},
   "outputs": [],
   "source": [
    "def getSentence_vec(sentence_array,words_db):\n",
    "    # 用一个词典长度的向量来表示这个句子\n",
    "    word_vec = np.zeros(len(words_db),dtype = \"int32\")\n",
    "    for i in range(len(sentence_array)):\n",
    "        for j in range(len(words_db)):\n",
    "            if words_db[j] == sentence_array[i]:\n",
    "                word_vec[j] = 1\n",
    "                break\n",
    "            \n",
    "    return word_vec"
   ]
  },
  {
   "cell_type": "code",
   "execution_count": 15,
   "id": "665a404a",
   "metadata": {},
   "outputs": [
    {
     "data": {
      "text/plain": [
       "array([1, 0, 1, 0, 1, 0, 1, 0])"
      ]
     },
     "execution_count": 15,
     "metadata": {},
     "output_type": "execute_result"
    }
   ],
   "source": [
    "getSentence_vec(sentence_array_one,words_db)"
   ]
  },
  {
   "cell_type": "code",
   "execution_count": 16,
   "id": "2d0ddd91",
   "metadata": {},
   "outputs": [],
   "source": [
    "# count_boolean 方法表示句子"
   ]
  },
  {
   "cell_type": "code",
   "execution_count": 17,
   "id": "e5d4a421",
   "metadata": {},
   "outputs": [],
   "source": [
    "sentence_two = \"我们今天又去爬山又去跑步\""
   ]
  },
  {
   "cell_type": "code",
   "execution_count": 18,
   "id": "c39a357e",
   "metadata": {},
   "outputs": [
    {
     "name": "stdout",
     "output_type": "stream",
     "text": [
      "我们/今天/又/去/爬山/又/去/跑步\n"
     ]
    }
   ],
   "source": [
    "sentence_array_two = list(jieba.cut(sentence_two,cut_all=False))\n",
    "print(\"/\".join(sentence_array_two))"
   ]
  },
  {
   "cell_type": "code",
   "execution_count": 19,
   "id": "81f55761",
   "metadata": {},
   "outputs": [],
   "source": [
    "def getSentence_vec_count(sentence_array,words_db):\n",
    "        # 用一个词典长度的向量来表示这个句子\n",
    "    word_vec = np.zeros(len(words_db),dtype = \"int32\")\n",
    "    for i in range(len(sentence_array)):\n",
    "        for j in range(len(words_db)):\n",
    "            if words_db[j] == sentence_array[i]:\n",
    "                word_vec[j] += 1\n",
    "                break\n",
    "            \n",
    "    return word_vec"
   ]
  },
  {
   "cell_type": "code",
   "execution_count": 20,
   "id": "9c18c073",
   "metadata": {},
   "outputs": [
    {
     "data": {
      "text/plain": [
       "array([1, 2, 1, 1, 2, 0, 1, 0])"
      ]
     },
     "execution_count": 20,
     "metadata": {},
     "output_type": "execute_result"
    }
   ],
   "source": [
    "getSentence_vec_count(sentence_array_two,words_db)"
   ]
  },
  {
   "cell_type": "code",
   "execution_count": 21,
   "id": "b8e92b88",
   "metadata": {},
   "outputs": [],
   "source": [
    "# tf-idf 句子表示法"
   ]
  },
  {
   "cell_type": "code",
   "execution_count": 22,
   "id": "808cb423",
   "metadata": {},
   "outputs": [],
   "source": [
    "# tfidfw(S) = tf(count_vec)*idf(S)"
   ]
  },
  {
   "cell_type": "code",
   "execution_count": 23,
   "id": "b7569af3",
   "metadata": {},
   "outputs": [],
   "source": [
    "# tf函数等同于count_boolean idf表示这个词在多少的文档中出现的占比倒数在求log ==>log(N/N(s)) N表示句子个数，N（S）表示出现S的句子个数"
   ]
  },
  {
   "cell_type": "code",
   "execution_count": 24,
   "id": "aa0c813b",
   "metadata": {},
   "outputs": [],
   "source": [
    "def getSentence_vec_tf_idf(sentence_array,words_db,sentences_db):\n",
    "    word_vec = np.array(getSentence_vec_count(sentence_array,words_db)).astype(np.float32)\n",
    "    nums = np.sum(sentences_db,axis=0)\n",
    "    mothers = np.ones(len(sentences_db[0]))*len(sentences_db)\n",
    "    print(word_vec)\n",
    "    idf_vec = np.zeros(len(word_vec))\n",
    "    for i in range(len(nums)):\n",
    "        if(nums[i] != 0):\n",
    "            idf_vec[i] = np.log2(mothers[i]/nums[i])\n",
    "    word_vec = word_vec * idf_vec\n",
    "    print(idf_vec)\n",
    "    return word_vec"
   ]
  },
  {
   "cell_type": "code",
   "execution_count": 25,
   "id": "5c297637",
   "metadata": {},
   "outputs": [],
   "source": [
    "# 合并两个句子"
   ]
  },
  {
   "cell_type": "code",
   "execution_count": 26,
   "id": "ba6af5a8",
   "metadata": {},
   "outputs": [
    {
     "name": "stdout",
     "output_type": "stream",
     "text": [
      "[[1 0 1 0 1 0 1 0]\n",
      " [1 1 1 1 1 0 1 0]]\n"
     ]
    }
   ],
   "source": [
    "vec_one = getSentence_vec(sentence_array_one,words_db)\n",
    "vec_two = getSentence_vec(sentence_array_two,words_db)\n",
    "sentences_db = np.vstack([vec_one,vec_two])\n",
    "print(sentences_db)"
   ]
  },
  {
   "cell_type": "code",
   "execution_count": 27,
   "id": "f24d925b",
   "metadata": {},
   "outputs": [
    {
     "data": {
      "text/plain": [
       "array([2, 1, 2, 1, 2, 0, 2, 0])"
      ]
     },
     "execution_count": 27,
     "metadata": {},
     "output_type": "execute_result"
    }
   ],
   "source": [
    "np.sum(sentences_db,axis=0)"
   ]
  },
  {
   "cell_type": "code",
   "execution_count": 28,
   "id": "3de3a6c7",
   "metadata": {},
   "outputs": [
    {
     "name": "stdout",
     "output_type": "stream",
     "text": [
      "[1. 0. 1. 0. 1. 0. 1. 0.]\n",
      "[0. 1. 0. 1. 0. 0. 0. 0.]\n"
     ]
    },
    {
     "data": {
      "text/plain": [
       "array([0., 0., 0., 0., 0., 0., 0., 0.])"
      ]
     },
     "execution_count": 28,
     "metadata": {},
     "output_type": "execute_result"
    }
   ],
   "source": [
    "getSentence_vec_tf_idf(sentence_array_one,words_db,sentences_db)"
   ]
  }
 ],
 "metadata": {
  "kernelspec": {
   "display_name": "Python 3",
   "language": "python",
   "name": "python3"
  },
  "language_info": {
   "codemirror_mode": {
    "name": "ipython",
    "version": 3
   },
   "file_extension": ".py",
   "mimetype": "text/x-python",
   "name": "python",
   "nbconvert_exporter": "python",
   "pygments_lexer": "ipython3",
   "version": "3.8.8"
  }
 },
 "nbformat": 4,
 "nbformat_minor": 5
}
