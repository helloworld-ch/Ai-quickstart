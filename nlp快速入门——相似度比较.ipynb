{
 "cells": [
  {
   "cell_type": "code",
   "execution_count": 1,
   "id": "69486f34",
   "metadata": {},
   "outputs": [],
   "source": [
    "import numpy as np\n",
    "import jieba"
   ]
  },
  {
   "cell_type": "code",
   "execution_count": 2,
   "id": "0ca068da",
   "metadata": {},
   "outputs": [],
   "source": [
    "words_db = [\"我们\",\"又\",\"爬山\",\"跑步\",\"去\",\"一起\",\"今天\",\"昨天\"]"
   ]
  },
  {
   "cell_type": "code",
   "execution_count": 3,
   "id": "e5b11e82",
   "metadata": {},
   "outputs": [
    {
     "name": "stderr",
     "output_type": "stream",
     "text": [
      "Building prefix dict from the default dictionary ...\n",
      "Loading model from cache C:\\Users\\Lenovo\\AppData\\Local\\Temp\\jieba.cache\n",
      "Loading model cost 0.885 seconds.\n",
      "Prefix dict has been built successfully.\n"
     ]
    }
   ],
   "source": [
    "sentence = \"我们今天去爬山\"\n",
    "sentence_array = list(jieba.cut(sentence,cut_all=False))"
   ]
  },
  {
   "cell_type": "code",
   "execution_count": 4,
   "id": "25333a47",
   "metadata": {},
   "outputs": [],
   "source": [
    "def getSentence_vec_count(sentence_array,words_db):\n",
    "        # 用一个词典长度的向量来表示这个句子\n",
    "    word_vec = np.zeros(len(words_db),dtype = \"int32\")\n",
    "    for i in range(len(sentence_array)):\n",
    "        for j in range(len(words_db)):\n",
    "            if words_db[j] == sentence_array[i]:\n",
    "                word_vec[j] += 1\n",
    "                break\n",
    "            \n",
    "    return word_vec"
   ]
  },
  {
   "cell_type": "code",
   "execution_count": 5,
   "id": "77e77ad2",
   "metadata": {},
   "outputs": [],
   "source": [
    "vec_one = getSentence_vec_count(sentence_array,words_db)"
   ]
  },
  {
   "cell_type": "code",
   "execution_count": 6,
   "id": "d7ceb5c1",
   "metadata": {},
   "outputs": [],
   "source": [
    "sentence = \"我们今天又去爬山又去跑步\"\n",
    "sentence_array = list(jieba.cut(sentence,cut_all=False))"
   ]
  },
  {
   "cell_type": "code",
   "execution_count": 7,
   "id": "ccfc0f6f",
   "metadata": {},
   "outputs": [],
   "source": [
    "vec_two = getSentence_vec_count(sentence_array,words_db)"
   ]
  },
  {
   "cell_type": "code",
   "execution_count": 8,
   "id": "ae98ff96",
   "metadata": {},
   "outputs": [
    {
     "data": {
      "text/plain": [
       "(array([1, 0, 1, 0, 1, 0, 1, 0]), array([1, 2, 1, 1, 2, 0, 1, 0]))"
      ]
     },
     "execution_count": 8,
     "metadata": {},
     "output_type": "execute_result"
    }
   ],
   "source": [
    "vec_one,vec_two"
   ]
  },
  {
   "cell_type": "code",
   "execution_count": 9,
   "id": "3ab1b03d",
   "metadata": {},
   "outputs": [],
   "source": [
    "# 欧式距离计算相似度，取最小值"
   ]
  },
  {
   "cell_type": "code",
   "execution_count": 13,
   "id": "d07e7376",
   "metadata": {},
   "outputs": [],
   "source": [
    "def ou_distance(vec_one,vec_two):\n",
    "    return np.sqrt(np.sum((vec_one-vec_two)**2))"
   ]
  },
  {
   "cell_type": "code",
   "execution_count": 14,
   "id": "9ad1362d",
   "metadata": {},
   "outputs": [
    {
     "data": {
      "text/plain": [
       "2.449489742783178"
      ]
     },
     "execution_count": 14,
     "metadata": {},
     "output_type": "execute_result"
    }
   ],
   "source": [
    "ou_distance(vec_one,vec_two)"
   ]
  },
  {
   "cell_type": "code",
   "execution_count": 12,
   "id": "827ac605",
   "metadata": {},
   "outputs": [],
   "source": [
    "# 余弦相似度计算相似度，取最大值"
   ]
  },
  {
   "cell_type": "code",
   "execution_count": 19,
   "id": "e54bbbed",
   "metadata": {},
   "outputs": [],
   "source": [
    "def cos_distance(vec_one,vec_two):\n",
    "    child = np.sum(vec_one*vec_two)\n",
    "    mother = np.sqrt(np.sum(vec_one**2))*np.sqrt(np.sum(vec_two**2))\n",
    "    return float(child/mother)"
   ]
  },
  {
   "cell_type": "code",
   "execution_count": 20,
   "id": "030d0906",
   "metadata": {},
   "outputs": [
    {
     "data": {
      "text/plain": [
       "0.7216878364870323"
      ]
     },
     "execution_count": 20,
     "metadata": {},
     "output_type": "execute_result"
    }
   ],
   "source": [
    "cos_distance(vec_one,vec_two)"
   ]
  },
  {
   "cell_type": "code",
   "execution_count": null,
   "id": "3e5291ac",
   "metadata": {},
   "outputs": [],
   "source": []
  }
 ],
 "metadata": {
  "kernelspec": {
   "display_name": "Python 3",
   "language": "python",
   "name": "python3"
  },
  "language_info": {
   "codemirror_mode": {
    "name": "ipython",
    "version": 3
   },
   "file_extension": ".py",
   "mimetype": "text/x-python",
   "name": "python",
   "nbconvert_exporter": "python",
   "pygments_lexer": "ipython3",
   "version": "3.8.8"
  }
 },
 "nbformat": 4,
 "nbformat_minor": 5
}
