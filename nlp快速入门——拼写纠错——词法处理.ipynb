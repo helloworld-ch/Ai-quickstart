{
 "cells": [
  {
   "cell_type": "code",
   "execution_count": 1,
   "id": "8ed921a7",
   "metadata": {},
   "outputs": [],
   "source": [
    "# 计算编辑距离 Dp"
   ]
  },
  {
   "cell_type": "code",
   "execution_count": 2,
   "id": "693dde64",
   "metadata": {},
   "outputs": [],
   "source": [
    "def calc_edit_distance(wordOne,wordTwo):\n",
    "    # 传入两个单词\n",
    "    m, n = len(wordOne),len(wordTwo) # 两个单词的长度\n",
    "    \n",
    "    # 设置dp数组\n",
    "    dp = [[0 for i in range(n+1)] for _ in range(m+1)]\n",
    "    \n",
    "    # dp填充数组\n",
    "    for i in range(m+1):\n",
    "        for j in range(n+1):\n",
    "            # 当第一个字符串为空时 ，需要j步insert来一致\n",
    "            if i == 0:\n",
    "                dp[i][j] = j\n",
    "            elif j == 0: # 当第二个字符串为空时，需要i步insert来一致\n",
    "                dp[i][j] = i\n",
    "            elif wordOne[i-1] == wordTwo[j-1]: # 当两个字符串最后一个字符串都相同时，不需要操作\n",
    "                dp[i][j] = dp[i-1][j-1]\n",
    "            else: \n",
    "                dp[i][j] = 1 + min(dp[i][j-1], # insert\n",
    "                                  dp[i-1][j],  # detele\n",
    "                                  dp[i-1][j-1])# replace\n",
    "    return dp[m][n]"
   ]
  },
  {
   "cell_type": "code",
   "execution_count": 3,
   "id": "eab7d242",
   "metadata": {},
   "outputs": [
    {
     "data": {
      "text/plain": [
       "5"
      ]
     },
     "execution_count": 3,
     "metadata": {},
     "output_type": "execute_result"
    }
   ],
   "source": [
    "calc_edit_distance(\"apple\",\"orange\")"
   ]
  },
  {
   "cell_type": "code",
   "execution_count": 4,
   "id": "22fdd51a",
   "metadata": {},
   "outputs": [],
   "source": [
    "# 假设词库"
   ]
  },
  {
   "cell_type": "code",
   "execution_count": 5,
   "id": "360e9c5a",
   "metadata": {},
   "outputs": [],
   "source": [
    "word_db = [\"their\",\"there\",\"the\",\"theirs\",\"three\"]"
   ]
  },
  {
   "cell_type": "code",
   "execution_count": 6,
   "id": "c51b1659",
   "metadata": {},
   "outputs": [],
   "source": [
    "input = \"therr\""
   ]
  },
  {
   "cell_type": "code",
   "execution_count": 7,
   "id": "7712ca04",
   "metadata": {},
   "outputs": [],
   "source": [
    "# 通过计算词库中的所有词与输入词的编辑距离，挑选编辑距离最小的作为候选词，在通过比较候选词在所有文章，新闻出现的概率选择替换"
   ]
  },
  {
   "cell_type": "code",
   "execution_count": 8,
   "id": "ac9b478f",
   "metadata": {},
   "outputs": [],
   "source": [
    "import numpy as np"
   ]
  },
  {
   "cell_type": "code",
   "execution_count": 13,
   "id": "afee7abe",
   "metadata": {},
   "outputs": [],
   "source": [
    "# 获得最小的联想词库\n",
    "def getNext(input,word_db):\n",
    "    result = []\n",
    "    words_nums = [0 for _ in range(len(word_db))]\n",
    "    data = np.array([word_db,words_nums])\n",
    "    for i in range(len(data[0])):\n",
    "        data[1][i] = calc_edit_distance(input,data[0][i])\n",
    "    indexs = np.argsort(data[1])\n",
    "    min_step = data[1][indexs[0]]\n",
    "    for i in indexs:\n",
    "        if data[1][i] == min_step:\n",
    "            result.append(data[0][i])\n",
    "        else:\n",
    "            break\n",
    "    return result"
   ]
  },
  {
   "cell_type": "code",
   "execution_count": 15,
   "id": "e04ff125",
   "metadata": {},
   "outputs": [],
   "source": [
    "next_db = getNext(input,word_db)"
   ]
  },
  {
   "cell_type": "code",
   "execution_count": 16,
   "id": "152b94ae",
   "metadata": {},
   "outputs": [],
   "source": [
    "# 设置全局词库概率"
   ]
  },
  {
   "cell_type": "code",
   "execution_count": 17,
   "id": "d2d12fbc",
   "metadata": {},
   "outputs": [],
   "source": [
    "prob = [0.1 , 0.3 ,0.5 ,0.05, 0.2]"
   ]
  },
  {
   "cell_type": "code",
   "execution_count": 18,
   "id": "2565b816",
   "metadata": {},
   "outputs": [],
   "source": [
    "logits = [4 , 2 , 5 , 1 ,3]"
   ]
  },
  {
   "cell_type": "code",
   "execution_count": 19,
   "id": "5e7fe698",
   "metadata": {},
   "outputs": [],
   "source": [
    "data = np.array([word_db,prob,logits])"
   ]
  },
  {
   "cell_type": "code",
   "execution_count": 20,
   "id": "e7f6f8df",
   "metadata": {},
   "outputs": [
    {
     "data": {
      "text/plain": [
       "array([['their', 'there', 'the', 'theirs', 'three'],\n",
       "       ['0.1', '0.3', '0.5', '0.05', '0.2'],\n",
       "       ['4', '2', '5', '1', '3']], dtype='<U32')"
      ]
     },
     "execution_count": 20,
     "metadata": {},
     "output_type": "execute_result"
    }
   ],
   "source": [
    "data"
   ]
  },
  {
   "cell_type": "code",
   "execution_count": 21,
   "id": "fc4e79c4",
   "metadata": {},
   "outputs": [],
   "source": [
    "# 根据候选词汇库获取最小的logits"
   ]
  },
  {
   "cell_type": "code",
   "execution_count": 26,
   "id": "acc08ede",
   "metadata": {},
   "outputs": [],
   "source": [
    "min_logits = 100\n",
    "max_word = \"\"\n",
    "for i in range(len(next_db)):\n",
    "    for j in range(len(data[0])):\n",
    "        if next_db[i] == data[0][j]:\n",
    "            if(min_logits>float(data[2][j])):\n",
    "                min_logits = float(data[2][j])\n",
    "                max_word = data[0][j]"
   ]
  },
  {
   "cell_type": "code",
   "execution_count": 27,
   "id": "03eff5d7",
   "metadata": {},
   "outputs": [
    {
     "data": {
      "text/plain": [
       "'there'"
      ]
     },
     "execution_count": 27,
     "metadata": {},
     "output_type": "execute_result"
    }
   ],
   "source": [
    "max_word"
   ]
  },
  {
   "cell_type": "code",
   "execution_count": 28,
   "id": "e3db8545",
   "metadata": {},
   "outputs": [],
   "source": [
    "# 上述方法需要大量的与词库进行比对，所以不是很好的模型"
   ]
  },
  {
   "cell_type": "code",
   "execution_count": null,
   "id": "108f957c",
   "metadata": {},
   "outputs": [],
   "source": []
  }
 ],
 "metadata": {
  "kernelspec": {
   "display_name": "Python 3",
   "language": "python",
   "name": "python3"
  },
  "language_info": {
   "codemirror_mode": {
    "name": "ipython",
    "version": 3
   },
   "file_extension": ".py",
   "mimetype": "text/x-python",
   "name": "python",
   "nbconvert_exporter": "python",
   "pygments_lexer": "ipython3",
   "version": "3.8.8"
  }
 },
 "nbformat": 4,
 "nbformat_minor": 5
}
